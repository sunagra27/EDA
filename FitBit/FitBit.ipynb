{
  "nbformat": 4,
  "nbformat_minor": 0,
  "metadata": {
    "colab": {
      "name": "FitBit.ipynb",
      "provenance": [],
      "collapsed_sections": []
    },
    "kernelspec": {
      "name": "python3",
      "display_name": "Python 3"
    }
  },
  "cells": [
    {
      "cell_type": "markdown",
      "metadata": {
        "id": "OzKz393PS1hY",
        "colab_type": "text"
      },
      "source": [
        "# FitBit Dataset\n",
        "\n",
        "The dataset contains the amount of calories burnt based on various parameters. The dataset contains 15 parameters, out of which Calories is Dependent variable and rest are Independent variable. The dataset has 457 rows for each variable. The analysis of Calories with different variables are done."
      ]
    },
    {
      "cell_type": "code",
      "metadata": {
        "id": "h-DU0HWrJ09A",
        "colab_type": "code",
        "colab": {}
      },
      "source": [
        "import pandas as pd\n",
        "import numpy as np\n",
        "import matplotlib.pyplot as plt\n",
        "import seaborn as sns\n",
        "import warnings\n",
        "warnings.filterwarnings('ignore')"
      ],
      "execution_count": null,
      "outputs": []
    },
    {
      "cell_type": "code",
      "metadata": {
        "id": "xTlftv0pJ2kC",
        "colab_type": "code",
        "colab": {}
      },
      "source": [
        "df = pd.read_csv('FitBit data.csv')"
      ],
      "execution_count": null,
      "outputs": []
    },
    {
      "cell_type": "code",
      "metadata": {
        "id": "drC64I3wKHHo",
        "colab_type": "code",
        "colab": {
          "base_uri": "https://localhost:8080/",
          "height": 215
        },
        "outputId": "7e8c1135-02d5-4788-81c7-70f880758f1e"
      },
      "source": [
        "df.head()"
      ],
      "execution_count": null,
      "outputs": [
        {
          "output_type": "execute_result",
          "data": {
            "text/html": [
              "<div>\n",
              "<style scoped>\n",
              "    .dataframe tbody tr th:only-of-type {\n",
              "        vertical-align: middle;\n",
              "    }\n",
              "\n",
              "    .dataframe tbody tr th {\n",
              "        vertical-align: top;\n",
              "    }\n",
              "\n",
              "    .dataframe thead th {\n",
              "        text-align: right;\n",
              "    }\n",
              "</style>\n",
              "<table border=\"1\" class=\"dataframe\">\n",
              "  <thead>\n",
              "    <tr style=\"text-align: right;\">\n",
              "      <th></th>\n",
              "      <th>Id</th>\n",
              "      <th>ActivityDate</th>\n",
              "      <th>TotalSteps</th>\n",
              "      <th>TotalDistance</th>\n",
              "      <th>TrackerDistance</th>\n",
              "      <th>LoggedActivitiesDistance</th>\n",
              "      <th>VeryActiveDistance</th>\n",
              "      <th>ModeratelyActiveDistance</th>\n",
              "      <th>LightActiveDistance</th>\n",
              "      <th>SedentaryActiveDistance</th>\n",
              "      <th>VeryActiveMinutes</th>\n",
              "      <th>FairlyActiveMinutes</th>\n",
              "      <th>LightlyActiveMinutes</th>\n",
              "      <th>SedentaryMinutes</th>\n",
              "      <th>Calories</th>\n",
              "    </tr>\n",
              "  </thead>\n",
              "  <tbody>\n",
              "    <tr>\n",
              "      <th>0</th>\n",
              "      <td>1503960366</td>\n",
              "      <td>3/25/2016</td>\n",
              "      <td>11004</td>\n",
              "      <td>7.11</td>\n",
              "      <td>7.11</td>\n",
              "      <td>0.0</td>\n",
              "      <td>2.57</td>\n",
              "      <td>0.46</td>\n",
              "      <td>4.07</td>\n",
              "      <td>0.0</td>\n",
              "      <td>33</td>\n",
              "      <td>12</td>\n",
              "      <td>205</td>\n",
              "      <td>804</td>\n",
              "      <td>1819</td>\n",
              "    </tr>\n",
              "    <tr>\n",
              "      <th>1</th>\n",
              "      <td>1503960366</td>\n",
              "      <td>3/26/2016</td>\n",
              "      <td>17609</td>\n",
              "      <td>11.55</td>\n",
              "      <td>11.55</td>\n",
              "      <td>0.0</td>\n",
              "      <td>6.92</td>\n",
              "      <td>0.73</td>\n",
              "      <td>3.91</td>\n",
              "      <td>0.0</td>\n",
              "      <td>89</td>\n",
              "      <td>17</td>\n",
              "      <td>274</td>\n",
              "      <td>588</td>\n",
              "      <td>2154</td>\n",
              "    </tr>\n",
              "    <tr>\n",
              "      <th>2</th>\n",
              "      <td>1503960366</td>\n",
              "      <td>3/27/2016</td>\n",
              "      <td>12736</td>\n",
              "      <td>8.53</td>\n",
              "      <td>8.53</td>\n",
              "      <td>0.0</td>\n",
              "      <td>4.66</td>\n",
              "      <td>0.16</td>\n",
              "      <td>3.71</td>\n",
              "      <td>0.0</td>\n",
              "      <td>56</td>\n",
              "      <td>5</td>\n",
              "      <td>268</td>\n",
              "      <td>605</td>\n",
              "      <td>1944</td>\n",
              "    </tr>\n",
              "    <tr>\n",
              "      <th>3</th>\n",
              "      <td>1503960366</td>\n",
              "      <td>3/28/2016</td>\n",
              "      <td>13231</td>\n",
              "      <td>8.93</td>\n",
              "      <td>8.93</td>\n",
              "      <td>0.0</td>\n",
              "      <td>3.19</td>\n",
              "      <td>0.79</td>\n",
              "      <td>4.95</td>\n",
              "      <td>0.0</td>\n",
              "      <td>39</td>\n",
              "      <td>20</td>\n",
              "      <td>224</td>\n",
              "      <td>1080</td>\n",
              "      <td>1932</td>\n",
              "    </tr>\n",
              "    <tr>\n",
              "      <th>4</th>\n",
              "      <td>1503960366</td>\n",
              "      <td>3/29/2016</td>\n",
              "      <td>12041</td>\n",
              "      <td>7.85</td>\n",
              "      <td>7.85</td>\n",
              "      <td>0.0</td>\n",
              "      <td>2.16</td>\n",
              "      <td>1.09</td>\n",
              "      <td>4.61</td>\n",
              "      <td>0.0</td>\n",
              "      <td>28</td>\n",
              "      <td>28</td>\n",
              "      <td>243</td>\n",
              "      <td>763</td>\n",
              "      <td>1886</td>\n",
              "    </tr>\n",
              "  </tbody>\n",
              "</table>\n",
              "</div>"
            ],
            "text/plain": [
              "           Id ActivityDate  ...  SedentaryMinutes  Calories\n",
              "0  1503960366    3/25/2016  ...               804      1819\n",
              "1  1503960366    3/26/2016  ...               588      2154\n",
              "2  1503960366    3/27/2016  ...               605      1944\n",
              "3  1503960366    3/28/2016  ...              1080      1932\n",
              "4  1503960366    3/29/2016  ...               763      1886\n",
              "\n",
              "[5 rows x 15 columns]"
            ]
          },
          "metadata": {
            "tags": []
          },
          "execution_count": 46
        }
      ]
    },
    {
      "cell_type": "code",
      "metadata": {
        "id": "tjnjmy08TGHb",
        "colab_type": "code",
        "colab": {
          "base_uri": "https://localhost:8080/",
          "height": 34
        },
        "outputId": "f8a1df00-8964-48c3-9209-bb175d36af35"
      },
      "source": [
        "df.shape"
      ],
      "execution_count": null,
      "outputs": [
        {
          "output_type": "execute_result",
          "data": {
            "text/plain": [
              "(457, 15)"
            ]
          },
          "metadata": {
            "tags": []
          },
          "execution_count": 47
        }
      ]
    },
    {
      "cell_type": "markdown",
      "metadata": {
        "id": "Jcy1rGKdTn4t",
        "colab_type": "text"
      },
      "source": [
        "# Dataset description, data types and finding out any null values in the dataset"
      ]
    },
    {
      "cell_type": "code",
      "metadata": {
        "id": "4f6MFT5wTyww",
        "colab_type": "code",
        "colab": {
          "base_uri": "https://localhost:8080/",
          "height": 304
        },
        "outputId": "487f1d8d-ac64-4200-fa3f-581154f79288"
      },
      "source": [
        "df.describe()"
      ],
      "execution_count": null,
      "outputs": [
        {
          "output_type": "execute_result",
          "data": {
            "text/html": [
              "<div>\n",
              "<style scoped>\n",
              "    .dataframe tbody tr th:only-of-type {\n",
              "        vertical-align: middle;\n",
              "    }\n",
              "\n",
              "    .dataframe tbody tr th {\n",
              "        vertical-align: top;\n",
              "    }\n",
              "\n",
              "    .dataframe thead th {\n",
              "        text-align: right;\n",
              "    }\n",
              "</style>\n",
              "<table border=\"1\" class=\"dataframe\">\n",
              "  <thead>\n",
              "    <tr style=\"text-align: right;\">\n",
              "      <th></th>\n",
              "      <th>Id</th>\n",
              "      <th>TotalSteps</th>\n",
              "      <th>TotalDistance</th>\n",
              "      <th>TrackerDistance</th>\n",
              "      <th>LoggedActivitiesDistance</th>\n",
              "      <th>VeryActiveDistance</th>\n",
              "      <th>ModeratelyActiveDistance</th>\n",
              "      <th>LightActiveDistance</th>\n",
              "      <th>SedentaryActiveDistance</th>\n",
              "      <th>VeryActiveMinutes</th>\n",
              "      <th>FairlyActiveMinutes</th>\n",
              "      <th>LightlyActiveMinutes</th>\n",
              "      <th>SedentaryMinutes</th>\n",
              "      <th>Calories</th>\n",
              "    </tr>\n",
              "  </thead>\n",
              "  <tbody>\n",
              "    <tr>\n",
              "      <th>count</th>\n",
              "      <td>4.570000e+02</td>\n",
              "      <td>457.000000</td>\n",
              "      <td>457.000000</td>\n",
              "      <td>457.000000</td>\n",
              "      <td>457.000000</td>\n",
              "      <td>457.000000</td>\n",
              "      <td>457.000000</td>\n",
              "      <td>457.000000</td>\n",
              "      <td>457.000000</td>\n",
              "      <td>457.000000</td>\n",
              "      <td>457.000000</td>\n",
              "      <td>457.000000</td>\n",
              "      <td>457.000000</td>\n",
              "      <td>457.000000</td>\n",
              "    </tr>\n",
              "    <tr>\n",
              "      <th>mean</th>\n",
              "      <td>4.628595e+09</td>\n",
              "      <td>6546.562363</td>\n",
              "      <td>4.663523</td>\n",
              "      <td>4.609847</td>\n",
              "      <td>0.179427</td>\n",
              "      <td>1.180897</td>\n",
              "      <td>0.478643</td>\n",
              "      <td>2.890197</td>\n",
              "      <td>0.001904</td>\n",
              "      <td>16.623632</td>\n",
              "      <td>13.070022</td>\n",
              "      <td>170.070022</td>\n",
              "      <td>995.282276</td>\n",
              "      <td>2189.452954</td>\n",
              "    </tr>\n",
              "    <tr>\n",
              "      <th>std</th>\n",
              "      <td>2.293781e+09</td>\n",
              "      <td>5398.493064</td>\n",
              "      <td>4.082072</td>\n",
              "      <td>4.068540</td>\n",
              "      <td>0.849232</td>\n",
              "      <td>2.487159</td>\n",
              "      <td>0.830995</td>\n",
              "      <td>2.237523</td>\n",
              "      <td>0.008487</td>\n",
              "      <td>28.919704</td>\n",
              "      <td>36.208635</td>\n",
              "      <td>122.205372</td>\n",
              "      <td>337.021404</td>\n",
              "      <td>815.484523</td>\n",
              "    </tr>\n",
              "    <tr>\n",
              "      <th>min</th>\n",
              "      <td>1.503960e+09</td>\n",
              "      <td>0.000000</td>\n",
              "      <td>0.000000</td>\n",
              "      <td>0.000000</td>\n",
              "      <td>0.000000</td>\n",
              "      <td>0.000000</td>\n",
              "      <td>0.000000</td>\n",
              "      <td>0.000000</td>\n",
              "      <td>0.000000</td>\n",
              "      <td>0.000000</td>\n",
              "      <td>0.000000</td>\n",
              "      <td>0.000000</td>\n",
              "      <td>32.000000</td>\n",
              "      <td>0.000000</td>\n",
              "    </tr>\n",
              "    <tr>\n",
              "      <th>25%</th>\n",
              "      <td>2.347168e+09</td>\n",
              "      <td>1988.000000</td>\n",
              "      <td>1.410000</td>\n",
              "      <td>1.280000</td>\n",
              "      <td>0.000000</td>\n",
              "      <td>0.000000</td>\n",
              "      <td>0.000000</td>\n",
              "      <td>0.870000</td>\n",
              "      <td>0.000000</td>\n",
              "      <td>0.000000</td>\n",
              "      <td>0.000000</td>\n",
              "      <td>64.000000</td>\n",
              "      <td>728.000000</td>\n",
              "      <td>1776.000000</td>\n",
              "    </tr>\n",
              "    <tr>\n",
              "      <th>50%</th>\n",
              "      <td>4.057193e+09</td>\n",
              "      <td>5986.000000</td>\n",
              "      <td>4.090000</td>\n",
              "      <td>4.090000</td>\n",
              "      <td>0.000000</td>\n",
              "      <td>0.000000</td>\n",
              "      <td>0.020000</td>\n",
              "      <td>2.930000</td>\n",
              "      <td>0.000000</td>\n",
              "      <td>0.000000</td>\n",
              "      <td>1.000000</td>\n",
              "      <td>181.000000</td>\n",
              "      <td>1057.000000</td>\n",
              "      <td>2062.000000</td>\n",
              "    </tr>\n",
              "    <tr>\n",
              "      <th>75%</th>\n",
              "      <td>6.391747e+09</td>\n",
              "      <td>10198.000000</td>\n",
              "      <td>7.160000</td>\n",
              "      <td>7.110000</td>\n",
              "      <td>0.000000</td>\n",
              "      <td>1.310000</td>\n",
              "      <td>0.670000</td>\n",
              "      <td>4.460000</td>\n",
              "      <td>0.000000</td>\n",
              "      <td>25.000000</td>\n",
              "      <td>16.000000</td>\n",
              "      <td>257.000000</td>\n",
              "      <td>1285.000000</td>\n",
              "      <td>2667.000000</td>\n",
              "    </tr>\n",
              "    <tr>\n",
              "      <th>max</th>\n",
              "      <td>8.877689e+09</td>\n",
              "      <td>28497.000000</td>\n",
              "      <td>27.530001</td>\n",
              "      <td>27.530001</td>\n",
              "      <td>6.727057</td>\n",
              "      <td>21.920000</td>\n",
              "      <td>6.400000</td>\n",
              "      <td>12.510000</td>\n",
              "      <td>0.100000</td>\n",
              "      <td>202.000000</td>\n",
              "      <td>660.000000</td>\n",
              "      <td>720.000000</td>\n",
              "      <td>1440.000000</td>\n",
              "      <td>4562.000000</td>\n",
              "    </tr>\n",
              "  </tbody>\n",
              "</table>\n",
              "</div>"
            ],
            "text/plain": [
              "                 Id    TotalSteps  ...  SedentaryMinutes     Calories\n",
              "count  4.570000e+02    457.000000  ...        457.000000   457.000000\n",
              "mean   4.628595e+09   6546.562363  ...        995.282276  2189.452954\n",
              "std    2.293781e+09   5398.493064  ...        337.021404   815.484523\n",
              "min    1.503960e+09      0.000000  ...         32.000000     0.000000\n",
              "25%    2.347168e+09   1988.000000  ...        728.000000  1776.000000\n",
              "50%    4.057193e+09   5986.000000  ...       1057.000000  2062.000000\n",
              "75%    6.391747e+09  10198.000000  ...       1285.000000  2667.000000\n",
              "max    8.877689e+09  28497.000000  ...       1440.000000  4562.000000\n",
              "\n",
              "[8 rows x 14 columns]"
            ]
          },
          "metadata": {
            "tags": []
          },
          "execution_count": 48
        }
      ]
    },
    {
      "cell_type": "markdown",
      "metadata": {
        "id": "ZRWX-RJvUBlO",
        "colab_type": "text"
      },
      "source": [
        "The following things can be analysed by dataset description.\n",
        "1. We see the the minimum calorie burnt is 0. Along this minimum column, we observe that expect SedentaryMinutes, all other variables /activities for burning calories are zero. \n",
        "2. The count of all variables are 457 which implies that there are no null values."
      ]
    },
    {
      "cell_type": "code",
      "metadata": {
        "id": "Mdd0P49FKH-H",
        "colab_type": "code",
        "colab": {
          "base_uri": "https://localhost:8080/",
          "height": 286
        },
        "outputId": "1b24aada-b615-4e6e-ec52-97e8c5a88526"
      },
      "source": [
        "df.isnull().any()"
      ],
      "execution_count": null,
      "outputs": [
        {
          "output_type": "execute_result",
          "data": {
            "text/plain": [
              "Id                          False\n",
              "ActivityDate                False\n",
              "TotalSteps                  False\n",
              "TotalDistance               False\n",
              "TrackerDistance             False\n",
              "LoggedActivitiesDistance    False\n",
              "VeryActiveDistance          False\n",
              "ModeratelyActiveDistance    False\n",
              "LightActiveDistance         False\n",
              "SedentaryActiveDistance     False\n",
              "VeryActiveMinutes           False\n",
              "FairlyActiveMinutes         False\n",
              "LightlyActiveMinutes        False\n",
              "SedentaryMinutes            False\n",
              "Calories                    False\n",
              "dtype: bool"
            ]
          },
          "metadata": {
            "tags": []
          },
          "execution_count": 49
        }
      ]
    },
    {
      "cell_type": "markdown",
      "metadata": {
        "id": "qssSKIJ_Tq2g",
        "colab_type": "text"
      },
      "source": [
        "We observe that the datset does not contain any null values."
      ]
    },
    {
      "cell_type": "code",
      "metadata": {
        "id": "MWwaaJuhUp_E",
        "colab_type": "code",
        "colab": {
          "base_uri": "https://localhost:8080/",
          "height": 286
        },
        "outputId": "237b0316-3817-4383-9236-715a36b205a8"
      },
      "source": [
        "df.dtypes"
      ],
      "execution_count": null,
      "outputs": [
        {
          "output_type": "execute_result",
          "data": {
            "text/plain": [
              "Id                            int64\n",
              "ActivityDate                 object\n",
              "TotalSteps                    int64\n",
              "TotalDistance               float64\n",
              "TrackerDistance             float64\n",
              "LoggedActivitiesDistance    float64\n",
              "VeryActiveDistance          float64\n",
              "ModeratelyActiveDistance    float64\n",
              "LightActiveDistance         float64\n",
              "SedentaryActiveDistance     float64\n",
              "VeryActiveMinutes             int64\n",
              "FairlyActiveMinutes           int64\n",
              "LightlyActiveMinutes          int64\n",
              "SedentaryMinutes              int64\n",
              "Calories                      int64\n",
              "dtype: object"
            ]
          },
          "metadata": {
            "tags": []
          },
          "execution_count": 50
        }
      ]
    },
    {
      "cell_type": "markdown",
      "metadata": {
        "id": "kuTPLRWoUsvm",
        "colab_type": "text"
      },
      "source": [
        "The data types for dataset is correct. However, we shall convert the activityDate to data-time format for more analysis with respect to calories burnt."
      ]
    },
    {
      "cell_type": "code",
      "metadata": {
        "id": "wu1I0gcyKctp",
        "colab_type": "code",
        "colab": {}
      },
      "source": [
        "df['ActivityDate'] = pd.to_datetime(df['ActivityDate'])"
      ],
      "execution_count": null,
      "outputs": []
    },
    {
      "cell_type": "code",
      "metadata": {
        "id": "9EfDDAfFXwvz",
        "colab_type": "code",
        "colab": {
          "base_uri": "https://localhost:8080/",
          "height": 215
        },
        "outputId": "dcbadf3e-4c65-41e5-ef50-ad7d69cf78b1"
      },
      "source": [
        "df.head()"
      ],
      "execution_count": null,
      "outputs": [
        {
          "output_type": "execute_result",
          "data": {
            "text/html": [
              "<div>\n",
              "<style scoped>\n",
              "    .dataframe tbody tr th:only-of-type {\n",
              "        vertical-align: middle;\n",
              "    }\n",
              "\n",
              "    .dataframe tbody tr th {\n",
              "        vertical-align: top;\n",
              "    }\n",
              "\n",
              "    .dataframe thead th {\n",
              "        text-align: right;\n",
              "    }\n",
              "</style>\n",
              "<table border=\"1\" class=\"dataframe\">\n",
              "  <thead>\n",
              "    <tr style=\"text-align: right;\">\n",
              "      <th></th>\n",
              "      <th>Id</th>\n",
              "      <th>ActivityDate</th>\n",
              "      <th>TotalSteps</th>\n",
              "      <th>TotalDistance</th>\n",
              "      <th>TrackerDistance</th>\n",
              "      <th>LoggedActivitiesDistance</th>\n",
              "      <th>VeryActiveDistance</th>\n",
              "      <th>ModeratelyActiveDistance</th>\n",
              "      <th>LightActiveDistance</th>\n",
              "      <th>SedentaryActiveDistance</th>\n",
              "      <th>VeryActiveMinutes</th>\n",
              "      <th>FairlyActiveMinutes</th>\n",
              "      <th>LightlyActiveMinutes</th>\n",
              "      <th>SedentaryMinutes</th>\n",
              "      <th>Calories</th>\n",
              "    </tr>\n",
              "  </thead>\n",
              "  <tbody>\n",
              "    <tr>\n",
              "      <th>0</th>\n",
              "      <td>1503960366</td>\n",
              "      <td>2016-03-25</td>\n",
              "      <td>11004</td>\n",
              "      <td>7.11</td>\n",
              "      <td>7.11</td>\n",
              "      <td>0.0</td>\n",
              "      <td>2.57</td>\n",
              "      <td>0.46</td>\n",
              "      <td>4.07</td>\n",
              "      <td>0.0</td>\n",
              "      <td>33</td>\n",
              "      <td>12</td>\n",
              "      <td>205</td>\n",
              "      <td>804</td>\n",
              "      <td>1819</td>\n",
              "    </tr>\n",
              "    <tr>\n",
              "      <th>1</th>\n",
              "      <td>1503960366</td>\n",
              "      <td>2016-03-26</td>\n",
              "      <td>17609</td>\n",
              "      <td>11.55</td>\n",
              "      <td>11.55</td>\n",
              "      <td>0.0</td>\n",
              "      <td>6.92</td>\n",
              "      <td>0.73</td>\n",
              "      <td>3.91</td>\n",
              "      <td>0.0</td>\n",
              "      <td>89</td>\n",
              "      <td>17</td>\n",
              "      <td>274</td>\n",
              "      <td>588</td>\n",
              "      <td>2154</td>\n",
              "    </tr>\n",
              "    <tr>\n",
              "      <th>2</th>\n",
              "      <td>1503960366</td>\n",
              "      <td>2016-03-27</td>\n",
              "      <td>12736</td>\n",
              "      <td>8.53</td>\n",
              "      <td>8.53</td>\n",
              "      <td>0.0</td>\n",
              "      <td>4.66</td>\n",
              "      <td>0.16</td>\n",
              "      <td>3.71</td>\n",
              "      <td>0.0</td>\n",
              "      <td>56</td>\n",
              "      <td>5</td>\n",
              "      <td>268</td>\n",
              "      <td>605</td>\n",
              "      <td>1944</td>\n",
              "    </tr>\n",
              "    <tr>\n",
              "      <th>3</th>\n",
              "      <td>1503960366</td>\n",
              "      <td>2016-03-28</td>\n",
              "      <td>13231</td>\n",
              "      <td>8.93</td>\n",
              "      <td>8.93</td>\n",
              "      <td>0.0</td>\n",
              "      <td>3.19</td>\n",
              "      <td>0.79</td>\n",
              "      <td>4.95</td>\n",
              "      <td>0.0</td>\n",
              "      <td>39</td>\n",
              "      <td>20</td>\n",
              "      <td>224</td>\n",
              "      <td>1080</td>\n",
              "      <td>1932</td>\n",
              "    </tr>\n",
              "    <tr>\n",
              "      <th>4</th>\n",
              "      <td>1503960366</td>\n",
              "      <td>2016-03-29</td>\n",
              "      <td>12041</td>\n",
              "      <td>7.85</td>\n",
              "      <td>7.85</td>\n",
              "      <td>0.0</td>\n",
              "      <td>2.16</td>\n",
              "      <td>1.09</td>\n",
              "      <td>4.61</td>\n",
              "      <td>0.0</td>\n",
              "      <td>28</td>\n",
              "      <td>28</td>\n",
              "      <td>243</td>\n",
              "      <td>763</td>\n",
              "      <td>1886</td>\n",
              "    </tr>\n",
              "  </tbody>\n",
              "</table>\n",
              "</div>"
            ],
            "text/plain": [
              "           Id ActivityDate  ...  SedentaryMinutes  Calories\n",
              "0  1503960366   2016-03-25  ...               804      1819\n",
              "1  1503960366   2016-03-26  ...               588      2154\n",
              "2  1503960366   2016-03-27  ...               605      1944\n",
              "3  1503960366   2016-03-28  ...              1080      1932\n",
              "4  1503960366   2016-03-29  ...               763      1886\n",
              "\n",
              "[5 rows x 15 columns]"
            ]
          },
          "metadata": {
            "tags": []
          },
          "execution_count": 52
        }
      ]
    },
    {
      "cell_type": "markdown",
      "metadata": {
        "id": "e06r6viuX_KU",
        "colab_type": "text"
      },
      "source": [
        "# Based on the ActiveMinutes, How are calories burnt?"
      ]
    },
    {
      "cell_type": "code",
      "metadata": {
        "id": "AjsNsMyAbi2V",
        "colab_type": "code",
        "colab": {
          "base_uri": "https://localhost:8080/",
          "height": 606
        },
        "outputId": "46d8a3ff-ccfd-4dd0-9b1b-64db27172cf3"
      },
      "source": [
        "fig1, ax1 = plt.subplots(2, 2, figsize = (10, 10))\n",
        "\n",
        "df.plot.scatter('Calories', 'VeryActiveMinutes', ax = ax1[0][0])\n",
        "df.plot.scatter('Calories', 'FairlyActiveMinutes', ax = ax1[0][1])\n",
        "df.plot.scatter('Calories', 'LightlyActiveMinutes', ax = ax1[1][0])\n",
        "df.plot.scatter('Calories', 'SedentaryMinutes', ax = ax1[1][1])\n",
        "plt.show()"
      ],
      "execution_count": null,
      "outputs": [
        {
          "output_type": "display_data",
          "data": {
            "image/png": "[encoded data removed]",
            "text/plain": [
              "<Figure size 720x720 with 4 Axes>"
            ]
          },
          "metadata": {
            "tags": [],
            "needs_background": "light"
          }
        }
      ]
    },
    {
      "cell_type": "markdown",
      "metadata": {
        "id": "4fMt4KlNEzSA",
        "colab_type": "text"
      },
      "source": [
        "From scatter plot analysis, we can observe following things:\n",
        "\n",
        "1. More concentration of FairlyActiveMinutes is present in its low values which means that, Calories are burnt more by only few amount of FairlyActiveMinutes.\n",
        "2. For SedentaryMinutes, the datas are scattered more in the mid and upper region. Meaning, calories are burnt in the range of 2000-3000 by spending the concentrated amount in SedentaryMinutes.\n",
        "3. Also for VeryActiveMinutes and LightlyActiveMinutes, the concentration are more in the mid-region."
      ]
    },
    {
      "cell_type": "markdown",
      "metadata": {
        "id": "ux1TmROdGR4d",
        "colab_type": "text"
      },
      "source": [
        "# Based on the Distance covered, How are calories burnt?"
      ]
    },
    {
      "cell_type": "code",
      "metadata": {
        "id": "Pnn2abMgGV4r",
        "colab_type": "code",
        "colab": {
          "base_uri": "https://localhost:8080/",
          "height": 606
        },
        "outputId": "8462258b-f377-4f7d-801a-227f053bfe5c"
      },
      "source": [
        "fig1, ax1 = plt.subplots(2, 2, figsize = (10, 10))\n",
        "\n",
        "df.plot.scatter('Calories', 'TotalDistance', ax = ax1[0][0])\n",
        "df.plot.scatter('Calories', 'TrackerDistance', ax = ax1[0][1])\n",
        "df.plot.scatter('Calories', 'LoggedActivitiesDistance', ax = ax1[1][0])\n",
        "df.plot.scatter('Calories', 'VeryActiveDistance', ax = ax1[1][1])\n",
        "plt.show()"
      ],
      "execution_count": null,
      "outputs": [
        {
          "output_type": "display_data",
          "data": {
            "image/png": "[encoded data removed]",
            "text/plain": [
              "<Figure size 720x720 with 4 Axes>"
            ]
          },
          "metadata": {
            "tags": [],
            "needs_background": "light"
          }
        }
      ]
    },
    {
      "cell_type": "markdown",
      "metadata": {
        "id": "agM-7b1IGk-c",
        "colab_type": "text"
      },
      "source": [
        "From the scatter plot, we can observe that TotalDistance and Tracker Distance shows a similar distribution."
      ]
    },
    {
      "cell_type": "markdown",
      "metadata": {
        "id": "I5I2bw_YJkP7",
        "colab_type": "text"
      },
      "source": [
        "# Elimination of column\n",
        "\n",
        "Since TotalDistance and TrackerDistance are same, there is no need of one of the column.\n"
      ]
    },
    {
      "cell_type": "code",
      "metadata": {
        "id": "MHYc70hKJt0m",
        "colab_type": "code",
        "colab": {}
      },
      "source": [
        "df.drop(['TrackerDistance'], axis = 1, inplace = True)"
      ],
      "execution_count": null,
      "outputs": []
    },
    {
      "cell_type": "markdown",
      "metadata": {
        "id": "OOvtWEgaGs95",
        "colab_type": "text"
      },
      "source": [
        "# Maximum calories burnt"
      ]
    },
    {
      "cell_type": "code",
      "metadata": {
        "id": "d1yOIQfzGvq7",
        "colab_type": "code",
        "colab": {
          "base_uri": "https://localhost:8080/",
          "height": 215
        },
        "outputId": "2f8201c0-5d2e-47b7-9d02-8a58b29a754a"
      },
      "source": [
        "#df[df['Calories'] == df['Calories'].max()]\n",
        "max_calories = df.nlargest(5, ['Calories'])\n",
        "max_calories.drop(['Id','SedentaryActiveDistance'], axis = 1, inplace = True)\n",
        "max_calories\n",
        "#SedentaryActiveDistance showed 0"
      ],
      "execution_count": null,
      "outputs": [
        {
          "output_type": "execute_result",
          "data": {
            "text/html": [
              "<div>\n",
              "<style scoped>\n",
              "    .dataframe tbody tr th:only-of-type {\n",
              "        vertical-align: middle;\n",
              "    }\n",
              "\n",
              "    .dataframe tbody tr th {\n",
              "        vertical-align: top;\n",
              "    }\n",
              "\n",
              "    .dataframe thead th {\n",
              "        text-align: right;\n",
              "    }\n",
              "</style>\n",
              "<table border=\"1\" class=\"dataframe\">\n",
              "  <thead>\n",
              "    <tr style=\"text-align: right;\">\n",
              "      <th></th>\n",
              "      <th>ActivityDate</th>\n",
              "      <th>TotalSteps</th>\n",
              "      <th>TotalDistance</th>\n",
              "      <th>LoggedActivitiesDistance</th>\n",
              "      <th>VeryActiveDistance</th>\n",
              "      <th>ModeratelyActiveDistance</th>\n",
              "      <th>LightActiveDistance</th>\n",
              "      <th>VeryActiveMinutes</th>\n",
              "      <th>FairlyActiveMinutes</th>\n",
              "      <th>LightlyActiveMinutes</th>\n",
              "      <th>SedentaryMinutes</th>\n",
              "      <th>Calories</th>\n",
              "    </tr>\n",
              "  </thead>\n",
              "  <tbody>\n",
              "    <tr>\n",
              "      <th>138</th>\n",
              "      <td>2016-04-01</td>\n",
              "      <td>0</td>\n",
              "      <td>0.000000</td>\n",
              "      <td>4.828032</td>\n",
              "      <td>0.00</td>\n",
              "      <td>0.00</td>\n",
              "      <td>0.00</td>\n",
              "      <td>0</td>\n",
              "      <td>660</td>\n",
              "      <td>0</td>\n",
              "      <td>780</td>\n",
              "      <td>4562</td>\n",
              "    </tr>\n",
              "    <tr>\n",
              "      <th>454</th>\n",
              "      <td>2016-04-10</td>\n",
              "      <td>28497</td>\n",
              "      <td>27.530001</td>\n",
              "      <td>0.000000</td>\n",
              "      <td>21.92</td>\n",
              "      <td>1.12</td>\n",
              "      <td>4.46</td>\n",
              "      <td>128</td>\n",
              "      <td>46</td>\n",
              "      <td>211</td>\n",
              "      <td>1055</td>\n",
              "      <td>4526</td>\n",
              "    </tr>\n",
              "    <tr>\n",
              "      <th>304</th>\n",
              "      <td>2016-04-02</td>\n",
              "      <td>14873</td>\n",
              "      <td>11.110000</td>\n",
              "      <td>0.000000</td>\n",
              "      <td>8.19</td>\n",
              "      <td>0.60</td>\n",
              "      <td>2.31</td>\n",
              "      <td>202</td>\n",
              "      <td>36</td>\n",
              "      <td>153</td>\n",
              "      <td>663</td>\n",
              "      <td>4430</td>\n",
              "    </tr>\n",
              "    <tr>\n",
              "      <th>347</th>\n",
              "      <td>2016-04-05</td>\n",
              "      <td>9348</td>\n",
              "      <td>6.700000</td>\n",
              "      <td>0.000000</td>\n",
              "      <td>1.13</td>\n",
              "      <td>2.04</td>\n",
              "      <td>3.14</td>\n",
              "      <td>56</td>\n",
              "      <td>133</td>\n",
              "      <td>240</td>\n",
              "      <td>1011</td>\n",
              "      <td>4286</td>\n",
              "    </tr>\n",
              "    <tr>\n",
              "      <th>416</th>\n",
              "      <td>2016-04-04</td>\n",
              "      <td>13935</td>\n",
              "      <td>11.050000</td>\n",
              "      <td>2.092147</td>\n",
              "      <td>4.09</td>\n",
              "      <td>0.79</td>\n",
              "      <td>6.17</td>\n",
              "      <td>105</td>\n",
              "      <td>16</td>\n",
              "      <td>220</td>\n",
              "      <td>658</td>\n",
              "      <td>4234</td>\n",
              "    </tr>\n",
              "  </tbody>\n",
              "</table>\n",
              "</div>"
            ],
            "text/plain": [
              "    ActivityDate  TotalSteps  ...  SedentaryMinutes  Calories\n",
              "138   2016-04-01           0  ...               780      4562\n",
              "454   2016-04-10       28497  ...              1055      4526\n",
              "304   2016-04-02       14873  ...               663      4430\n",
              "347   2016-04-05        9348  ...              1011      4286\n",
              "416   2016-04-04       13935  ...               658      4234\n",
              "\n",
              "[5 rows x 12 columns]"
            ]
          },
          "metadata": {
            "tags": []
          },
          "execution_count": 56
        }
      ]
    },
    {
      "cell_type": "markdown",
      "metadata": {
        "id": "yZg1jZnLKZCx",
        "colab_type": "text"
      },
      "source": [
        "The max_calories dataframe gives the max 5 datas grouped by calories.\n",
        "We can see that for a calorie burnt of 4526, total steps taken is 28497, total distance is 27.53, also veryActiveDistance is 21.92. This took place on 2016-04-10."
      ]
    },
    {
      "cell_type": "markdown",
      "metadata": {
        "id": "B0nq4ZUrK2IY",
        "colab_type": "text"
      },
      "source": [
        "# Calories burnt based on ActivityDate"
      ]
    },
    {
      "cell_type": "markdown",
      "metadata": {
        "id": "Cly9RDk5K53j",
        "colab_type": "text"
      },
      "source": [
        "Splitting activitydate to year, day and month."
      ]
    },
    {
      "cell_type": "code",
      "metadata": {
        "id": "d7zuqStZMzRK",
        "colab_type": "code",
        "colab": {}
      },
      "source": [
        "df['day'] = df['ActivityDate'].dt.day\n",
        "df['month'] = df['ActivityDate'].dt.month\n",
        "df['year'] = df['ActivityDate'].dt.year"
      ],
      "execution_count": null,
      "outputs": []
    },
    {
      "cell_type": "code",
      "metadata": {
        "id": "LR59c3nERlzc",
        "colab_type": "code",
        "colab": {
          "base_uri": "https://localhost:8080/",
          "height": 215
        },
        "outputId": "0542a83b-b98f-409d-eacf-93800e6b8449"
      },
      "source": [
        "df.head()"
      ],
      "execution_count": null,
      "outputs": [
        {
          "output_type": "execute_result",
          "data": {
            "text/html": [
              "<div>\n",
              "<style scoped>\n",
              "    .dataframe tbody tr th:only-of-type {\n",
              "        vertical-align: middle;\n",
              "    }\n",
              "\n",
              "    .dataframe tbody tr th {\n",
              "        vertical-align: top;\n",
              "    }\n",
              "\n",
              "    .dataframe thead th {\n",
              "        text-align: right;\n",
              "    }\n",
              "</style>\n",
              "<table border=\"1\" class=\"dataframe\">\n",
              "  <thead>\n",
              "    <tr style=\"text-align: right;\">\n",
              "      <th></th>\n",
              "      <th>Id</th>\n",
              "      <th>ActivityDate</th>\n",
              "      <th>TotalSteps</th>\n",
              "      <th>TotalDistance</th>\n",
              "      <th>LoggedActivitiesDistance</th>\n",
              "      <th>VeryActiveDistance</th>\n",
              "      <th>ModeratelyActiveDistance</th>\n",
              "      <th>LightActiveDistance</th>\n",
              "      <th>SedentaryActiveDistance</th>\n",
              "      <th>VeryActiveMinutes</th>\n",
              "      <th>FairlyActiveMinutes</th>\n",
              "      <th>LightlyActiveMinutes</th>\n",
              "      <th>SedentaryMinutes</th>\n",
              "      <th>Calories</th>\n",
              "      <th>day</th>\n",
              "      <th>month</th>\n",
              "      <th>year</th>\n",
              "    </tr>\n",
              "  </thead>\n",
              "  <tbody>\n",
              "    <tr>\n",
              "      <th>0</th>\n",
              "      <td>1503960366</td>\n",
              "      <td>2016-03-25</td>\n",
              "      <td>11004</td>\n",
              "      <td>7.11</td>\n",
              "      <td>0.0</td>\n",
              "      <td>2.57</td>\n",
              "      <td>0.46</td>\n",
              "      <td>4.07</td>\n",
              "      <td>0.0</td>\n",
              "      <td>33</td>\n",
              "      <td>12</td>\n",
              "      <td>205</td>\n",
              "      <td>804</td>\n",
              "      <td>1819</td>\n",
              "      <td>25</td>\n",
              "      <td>3</td>\n",
              "      <td>2016</td>\n",
              "    </tr>\n",
              "    <tr>\n",
              "      <th>1</th>\n",
              "      <td>1503960366</td>\n",
              "      <td>2016-03-26</td>\n",
              "      <td>17609</td>\n",
              "      <td>11.55</td>\n",
              "      <td>0.0</td>\n",
              "      <td>6.92</td>\n",
              "      <td>0.73</td>\n",
              "      <td>3.91</td>\n",
              "      <td>0.0</td>\n",
              "      <td>89</td>\n",
              "      <td>17</td>\n",
              "      <td>274</td>\n",
              "      <td>588</td>\n",
              "      <td>2154</td>\n",
              "      <td>26</td>\n",
              "      <td>3</td>\n",
              "      <td>2016</td>\n",
              "    </tr>\n",
              "    <tr>\n",
              "      <th>2</th>\n",
              "      <td>1503960366</td>\n",
              "      <td>2016-03-27</td>\n",
              "      <td>12736</td>\n",
              "      <td>8.53</td>\n",
              "      <td>0.0</td>\n",
              "      <td>4.66</td>\n",
              "      <td>0.16</td>\n",
              "      <td>3.71</td>\n",
              "      <td>0.0</td>\n",
              "      <td>56</td>\n",
              "      <td>5</td>\n",
              "      <td>268</td>\n",
              "      <td>605</td>\n",
              "      <td>1944</td>\n",
              "      <td>27</td>\n",
              "      <td>3</td>\n",
              "      <td>2016</td>\n",
              "    </tr>\n",
              "    <tr>\n",
              "      <th>3</th>\n",
              "      <td>1503960366</td>\n",
              "      <td>2016-03-28</td>\n",
              "      <td>13231</td>\n",
              "      <td>8.93</td>\n",
              "      <td>0.0</td>\n",
              "      <td>3.19</td>\n",
              "      <td>0.79</td>\n",
              "      <td>4.95</td>\n",
              "      <td>0.0</td>\n",
              "      <td>39</td>\n",
              "      <td>20</td>\n",
              "      <td>224</td>\n",
              "      <td>1080</td>\n",
              "      <td>1932</td>\n",
              "      <td>28</td>\n",
              "      <td>3</td>\n",
              "      <td>2016</td>\n",
              "    </tr>\n",
              "    <tr>\n",
              "      <th>4</th>\n",
              "      <td>1503960366</td>\n",
              "      <td>2016-03-29</td>\n",
              "      <td>12041</td>\n",
              "      <td>7.85</td>\n",
              "      <td>0.0</td>\n",
              "      <td>2.16</td>\n",
              "      <td>1.09</td>\n",
              "      <td>4.61</td>\n",
              "      <td>0.0</td>\n",
              "      <td>28</td>\n",
              "      <td>28</td>\n",
              "      <td>243</td>\n",
              "      <td>763</td>\n",
              "      <td>1886</td>\n",
              "      <td>29</td>\n",
              "      <td>3</td>\n",
              "      <td>2016</td>\n",
              "    </tr>\n",
              "  </tbody>\n",
              "</table>\n",
              "</div>"
            ],
            "text/plain": [
              "           Id ActivityDate  TotalSteps  ...  day  month  year\n",
              "0  1503960366   2016-03-25       11004  ...   25      3  2016\n",
              "1  1503960366   2016-03-26       17609  ...   26      3  2016\n",
              "2  1503960366   2016-03-27       12736  ...   27      3  2016\n",
              "3  1503960366   2016-03-28       13231  ...   28      3  2016\n",
              "4  1503960366   2016-03-29       12041  ...   29      3  2016\n",
              "\n",
              "[5 rows x 17 columns]"
            ]
          },
          "metadata": {
            "tags": []
          },
          "execution_count": 58
        }
      ]
    },
    {
      "cell_type": "code",
      "metadata": {
        "id": "5ztzDrb48wpI",
        "colab_type": "code",
        "colab": {}
      },
      "source": [
        "df.drop('ActivityDate', axis = 1, inplace=True)"
      ],
      "execution_count": null,
      "outputs": []
    },
    {
      "cell_type": "markdown",
      "metadata": {
        "id": "71GMtEes9NJJ",
        "colab_type": "text"
      },
      "source": [
        "The variable Id is not necessary. So, it can be removed."
      ]
    },
    {
      "cell_type": "code",
      "metadata": {
        "id": "KlrviPSV9S3j",
        "colab_type": "code",
        "colab": {}
      },
      "source": [
        "df.drop('Id', axis = 1, inplace = True)"
      ],
      "execution_count": null,
      "outputs": []
    },
    {
      "cell_type": "code",
      "metadata": {
        "id": "yQRA9Py3W58u",
        "colab_type": "code",
        "colab": {
          "base_uri": "https://localhost:8080/",
          "height": 215
        },
        "outputId": "5f9f59a9-a7fe-452f-a458-07de7df18d09"
      },
      "source": [
        "data2 = df[df['month']==3]\n",
        "max_calories1 = data2.nlargest(5, ['Calories'])\n",
        "max_calories1"
      ],
      "execution_count": null,
      "outputs": [
        {
          "output_type": "execute_result",
          "data": {
            "text/html": [
              "<div>\n",
              "<style scoped>\n",
              "    .dataframe tbody tr th:only-of-type {\n",
              "        vertical-align: middle;\n",
              "    }\n",
              "\n",
              "    .dataframe tbody tr th {\n",
              "        vertical-align: top;\n",
              "    }\n",
              "\n",
              "    .dataframe thead th {\n",
              "        text-align: right;\n",
              "    }\n",
              "</style>\n",
              "<table border=\"1\" class=\"dataframe\">\n",
              "  <thead>\n",
              "    <tr style=\"text-align: right;\">\n",
              "      <th></th>\n",
              "      <th>TotalSteps</th>\n",
              "      <th>TotalDistance</th>\n",
              "      <th>LoggedActivitiesDistance</th>\n",
              "      <th>VeryActiveDistance</th>\n",
              "      <th>ModeratelyActiveDistance</th>\n",
              "      <th>LightActiveDistance</th>\n",
              "      <th>SedentaryActiveDistance</th>\n",
              "      <th>VeryActiveMinutes</th>\n",
              "      <th>FairlyActiveMinutes</th>\n",
              "      <th>LightlyActiveMinutes</th>\n",
              "      <th>SedentaryMinutes</th>\n",
              "      <th>Calories</th>\n",
              "      <th>day</th>\n",
              "      <th>month</th>\n",
              "      <th>year</th>\n",
              "    </tr>\n",
              "  </thead>\n",
              "  <tbody>\n",
              "    <tr>\n",
              "      <th>181</th>\n",
              "      <td>2106</td>\n",
              "      <td>1.51</td>\n",
              "      <td>0.0</td>\n",
              "      <td>0.02</td>\n",
              "      <td>0.05</td>\n",
              "      <td>0.21</td>\n",
              "      <td>0.00</td>\n",
              "      <td>31</td>\n",
              "      <td>45</td>\n",
              "      <td>75</td>\n",
              "      <td>1289</td>\n",
              "      <td>4010</td>\n",
              "      <td>28</td>\n",
              "      <td>3</td>\n",
              "      <td>2016</td>\n",
              "    </tr>\n",
              "    <tr>\n",
              "      <th>169</th>\n",
              "      <td>12483</td>\n",
              "      <td>8.99</td>\n",
              "      <td>0.0</td>\n",
              "      <td>1.45</td>\n",
              "      <td>0.57</td>\n",
              "      <td>6.90</td>\n",
              "      <td>0.00</td>\n",
              "      <td>25</td>\n",
              "      <td>14</td>\n",
              "      <td>309</td>\n",
              "      <td>599</td>\n",
              "      <td>3830</td>\n",
              "      <td>16</td>\n",
              "      <td>3</td>\n",
              "      <td>2016</td>\n",
              "    </tr>\n",
              "    <tr>\n",
              "      <th>173</th>\n",
              "      <td>10330</td>\n",
              "      <td>7.41</td>\n",
              "      <td>0.0</td>\n",
              "      <td>0.00</td>\n",
              "      <td>0.00</td>\n",
              "      <td>0.00</td>\n",
              "      <td>0.00</td>\n",
              "      <td>0</td>\n",
              "      <td>0</td>\n",
              "      <td>0</td>\n",
              "      <td>1440</td>\n",
              "      <td>3728</td>\n",
              "      <td>20</td>\n",
              "      <td>3</td>\n",
              "      <td>2016</td>\n",
              "    </tr>\n",
              "    <tr>\n",
              "      <th>170</th>\n",
              "      <td>8940</td>\n",
              "      <td>6.41</td>\n",
              "      <td>0.0</td>\n",
              "      <td>0.00</td>\n",
              "      <td>0.00</td>\n",
              "      <td>0.61</td>\n",
              "      <td>0.04</td>\n",
              "      <td>0</td>\n",
              "      <td>0</td>\n",
              "      <td>47</td>\n",
              "      <td>986</td>\n",
              "      <td>3706</td>\n",
              "      <td>17</td>\n",
              "      <td>3</td>\n",
              "      <td>2016</td>\n",
              "    </tr>\n",
              "    <tr>\n",
              "      <th>178</th>\n",
              "      <td>5563</td>\n",
              "      <td>3.99</td>\n",
              "      <td>0.0</td>\n",
              "      <td>0.00</td>\n",
              "      <td>0.00</td>\n",
              "      <td>0.00</td>\n",
              "      <td>0.00</td>\n",
              "      <td>0</td>\n",
              "      <td>0</td>\n",
              "      <td>0</td>\n",
              "      <td>1440</td>\n",
              "      <td>3681</td>\n",
              "      <td>25</td>\n",
              "      <td>3</td>\n",
              "      <td>2016</td>\n",
              "    </tr>\n",
              "  </tbody>\n",
              "</table>\n",
              "</div>"
            ],
            "text/plain": [
              "     TotalSteps  TotalDistance  LoggedActivitiesDistance  ...  day  month  year\n",
              "181        2106           1.51                       0.0  ...   28      3  2016\n",
              "169       12483           8.99                       0.0  ...   16      3  2016\n",
              "173       10330           7.41                       0.0  ...   20      3  2016\n",
              "170        8940           6.41                       0.0  ...   17      3  2016\n",
              "178        5563           3.99                       0.0  ...   25      3  2016\n",
              "\n",
              "[5 rows x 15 columns]"
            ]
          },
          "metadata": {
            "tags": []
          },
          "execution_count": 61
        }
      ]
    },
    {
      "cell_type": "markdown",
      "metadata": {
        "id": "MTxeDEXw5FbN",
        "colab_type": "text"
      },
      "source": [
        "From this filteration, we can observe that max calories value was 4010 on 28th day of 3rd month."
      ]
    },
    {
      "cell_type": "code",
      "metadata": {
        "id": "HfOL_o3yW5JU",
        "colab_type": "code",
        "colab": {
          "base_uri": "https://localhost:8080/",
          "height": 215
        },
        "outputId": "03a6e0e9-601e-4003-880d-ae36001e1fdb"
      },
      "source": [
        "data3 = df[df['month']==4]\n",
        "max_calories2 = data3.nlargest(5, ['Calories'])\n",
        "max_calories2"
      ],
      "execution_count": null,
      "outputs": [
        {
          "output_type": "execute_result",
          "data": {
            "text/html": [
              "<div>\n",
              "<style scoped>\n",
              "    .dataframe tbody tr th:only-of-type {\n",
              "        vertical-align: middle;\n",
              "    }\n",
              "\n",
              "    .dataframe tbody tr th {\n",
              "        vertical-align: top;\n",
              "    }\n",
              "\n",
              "    .dataframe thead th {\n",
              "        text-align: right;\n",
              "    }\n",
              "</style>\n",
              "<table border=\"1\" class=\"dataframe\">\n",
              "  <thead>\n",
              "    <tr style=\"text-align: right;\">\n",
              "      <th></th>\n",
              "      <th>TotalSteps</th>\n",
              "      <th>TotalDistance</th>\n",
              "      <th>LoggedActivitiesDistance</th>\n",
              "      <th>VeryActiveDistance</th>\n",
              "      <th>ModeratelyActiveDistance</th>\n",
              "      <th>LightActiveDistance</th>\n",
              "      <th>SedentaryActiveDistance</th>\n",
              "      <th>VeryActiveMinutes</th>\n",
              "      <th>FairlyActiveMinutes</th>\n",
              "      <th>LightlyActiveMinutes</th>\n",
              "      <th>SedentaryMinutes</th>\n",
              "      <th>Calories</th>\n",
              "      <th>day</th>\n",
              "      <th>month</th>\n",
              "      <th>year</th>\n",
              "    </tr>\n",
              "  </thead>\n",
              "  <tbody>\n",
              "    <tr>\n",
              "      <th>138</th>\n",
              "      <td>0</td>\n",
              "      <td>0.000000</td>\n",
              "      <td>4.828032</td>\n",
              "      <td>0.00</td>\n",
              "      <td>0.00</td>\n",
              "      <td>0.00</td>\n",
              "      <td>0.0</td>\n",
              "      <td>0</td>\n",
              "      <td>660</td>\n",
              "      <td>0</td>\n",
              "      <td>780</td>\n",
              "      <td>4562</td>\n",
              "      <td>1</td>\n",
              "      <td>4</td>\n",
              "      <td>2016</td>\n",
              "    </tr>\n",
              "    <tr>\n",
              "      <th>454</th>\n",
              "      <td>28497</td>\n",
              "      <td>27.530001</td>\n",
              "      <td>0.000000</td>\n",
              "      <td>21.92</td>\n",
              "      <td>1.12</td>\n",
              "      <td>4.46</td>\n",
              "      <td>0.0</td>\n",
              "      <td>128</td>\n",
              "      <td>46</td>\n",
              "      <td>211</td>\n",
              "      <td>1055</td>\n",
              "      <td>4526</td>\n",
              "      <td>10</td>\n",
              "      <td>4</td>\n",
              "      <td>2016</td>\n",
              "    </tr>\n",
              "    <tr>\n",
              "      <th>304</th>\n",
              "      <td>14873</td>\n",
              "      <td>11.110000</td>\n",
              "      <td>0.000000</td>\n",
              "      <td>8.19</td>\n",
              "      <td>0.60</td>\n",
              "      <td>2.31</td>\n",
              "      <td>0.0</td>\n",
              "      <td>202</td>\n",
              "      <td>36</td>\n",
              "      <td>153</td>\n",
              "      <td>663</td>\n",
              "      <td>4430</td>\n",
              "      <td>2</td>\n",
              "      <td>4</td>\n",
              "      <td>2016</td>\n",
              "    </tr>\n",
              "    <tr>\n",
              "      <th>347</th>\n",
              "      <td>9348</td>\n",
              "      <td>6.700000</td>\n",
              "      <td>0.000000</td>\n",
              "      <td>1.13</td>\n",
              "      <td>2.04</td>\n",
              "      <td>3.14</td>\n",
              "      <td>0.0</td>\n",
              "      <td>56</td>\n",
              "      <td>133</td>\n",
              "      <td>240</td>\n",
              "      <td>1011</td>\n",
              "      <td>4286</td>\n",
              "      <td>5</td>\n",
              "      <td>4</td>\n",
              "      <td>2016</td>\n",
              "    </tr>\n",
              "    <tr>\n",
              "      <th>416</th>\n",
              "      <td>13935</td>\n",
              "      <td>11.050000</td>\n",
              "      <td>2.092147</td>\n",
              "      <td>4.09</td>\n",
              "      <td>0.79</td>\n",
              "      <td>6.17</td>\n",
              "      <td>0.0</td>\n",
              "      <td>105</td>\n",
              "      <td>16</td>\n",
              "      <td>220</td>\n",
              "      <td>658</td>\n",
              "      <td>4234</td>\n",
              "      <td>4</td>\n",
              "      <td>4</td>\n",
              "      <td>2016</td>\n",
              "    </tr>\n",
              "  </tbody>\n",
              "</table>\n",
              "</div>"
            ],
            "text/plain": [
              "     TotalSteps  TotalDistance  LoggedActivitiesDistance  ...  day  month  year\n",
              "138           0       0.000000                  4.828032  ...    1      4  2016\n",
              "454       28497      27.530001                  0.000000  ...   10      4  2016\n",
              "304       14873      11.110000                  0.000000  ...    2      4  2016\n",
              "347        9348       6.700000                  0.000000  ...    5      4  2016\n",
              "416       13935      11.050000                  2.092147  ...    4      4  2016\n",
              "\n",
              "[5 rows x 15 columns]"
            ]
          },
          "metadata": {
            "tags": []
          },
          "execution_count": 62
        }
      ]
    },
    {
      "cell_type": "markdown",
      "metadata": {
        "id": "tvRhVrqu6qVJ",
        "colab_type": "text"
      },
      "source": [
        "From this filteration, we can observe that max calories value was 4562 on 28th day of 4th month.\n"
      ]
    },
    {
      "cell_type": "markdown",
      "metadata": {
        "id": "_yY1z6597uA5",
        "colab_type": "text"
      },
      "source": [
        "# Box plot"
      ]
    },
    {
      "cell_type": "code",
      "metadata": {
        "id": "Xpj-nJTf7x_M",
        "colab_type": "code",
        "colab": {
          "base_uri": "https://localhost:8080/",
          "height": 483
        },
        "outputId": "a961cde1-f864-4dff-c29e-6c761b111c4e"
      },
      "source": [
        "fig, ax1 = plt.subplots(2, figsize = (6, 8))\n",
        "df.boxplot('TotalSteps', ax = ax1[0])\n",
        "df.boxplot('TotalDistance', ax = ax1[1])\n",
        "plt.show()"
      ],
      "execution_count": null,
      "outputs": [
        {
          "output_type": "display_data",
          "data": {
            "image/png": "[encoded data removed]",
            "text/plain": [
              "<Figure size 432x576 with 2 Axes>"
            ]
          },
          "metadata": {
            "tags": [],
            "needs_background": "light"
          }
        }
      ]
    },
    {
      "cell_type": "markdown",
      "metadata": {
        "id": "hN7V8mRy8Loa",
        "colab_type": "text"
      },
      "source": [
        "The Boxpolot shows the presence of outliers in the dataFrame.\n",
        "\n",
        "1. Presented here is the variable TotalSteps and TotalDistance.\n",
        "2. We can observe that the median for TotalSteps is around 6000 and for TotalDistance is around 4. \n",
        "3. The max for TotalSteps is around 21000 and for TotalDistance is around 16.\n",
        "4. There are outliers present in both the dataframes which are present outside the InterQuartile range."
      ]
    },
    {
      "cell_type": "markdown",
      "metadata": {
        "id": "y72NqST1ITwG",
        "colab_type": "text"
      },
      "source": [
        "# Correlation Matrix"
      ]
    },
    {
      "cell_type": "code",
      "metadata": {
        "id": "tQklYk3sEvmQ",
        "colab_type": "code",
        "colab": {
          "base_uri": "https://localhost:8080/",
          "height": 511
        },
        "outputId": "17bea9de-4105-446a-84d1-46bf72071dd6"
      },
      "source": [
        "df.corr()"
      ],
      "execution_count": null,
      "outputs": [
        {
          "output_type": "execute_result",
          "data": {
            "text/html": [
              "<div>\n",
              "<style scoped>\n",
              "    .dataframe tbody tr th:only-of-type {\n",
              "        vertical-align: middle;\n",
              "    }\n",
              "\n",
              "    .dataframe tbody tr th {\n",
              "        vertical-align: top;\n",
              "    }\n",
              "\n",
              "    .dataframe thead th {\n",
              "        text-align: right;\n",
              "    }\n",
              "</style>\n",
              "<table border=\"1\" class=\"dataframe\">\n",
              "  <thead>\n",
              "    <tr style=\"text-align: right;\">\n",
              "      <th></th>\n",
              "      <th>TotalSteps</th>\n",
              "      <th>TotalDistance</th>\n",
              "      <th>LoggedActivitiesDistance</th>\n",
              "      <th>VeryActiveDistance</th>\n",
              "      <th>ModeratelyActiveDistance</th>\n",
              "      <th>LightActiveDistance</th>\n",
              "      <th>SedentaryActiveDistance</th>\n",
              "      <th>VeryActiveMinutes</th>\n",
              "      <th>FairlyActiveMinutes</th>\n",
              "      <th>LightlyActiveMinutes</th>\n",
              "      <th>SedentaryMinutes</th>\n",
              "      <th>Calories</th>\n",
              "      <th>day</th>\n",
              "      <th>month</th>\n",
              "      <th>year</th>\n",
              "    </tr>\n",
              "  </thead>\n",
              "  <tbody>\n",
              "    <tr>\n",
              "      <th>TotalSteps</th>\n",
              "      <td>1.000000</td>\n",
              "      <td>0.986789</td>\n",
              "      <td>0.146380</td>\n",
              "      <td>0.733689</td>\n",
              "      <td>0.541838</td>\n",
              "      <td>0.775562</td>\n",
              "      <td>0.081965</td>\n",
              "      <td>0.699699</td>\n",
              "      <td>0.238389</td>\n",
              "      <td>0.654418</td>\n",
              "      <td>-0.285258</td>\n",
              "      <td>0.581380</td>\n",
              "      <td>-0.122238</td>\n",
              "      <td>0.125961</td>\n",
              "      <td>NaN</td>\n",
              "    </tr>\n",
              "    <tr>\n",
              "      <th>TotalDistance</th>\n",
              "      <td>0.986789</td>\n",
              "      <td>1.000000</td>\n",
              "      <td>0.164312</td>\n",
              "      <td>0.791778</td>\n",
              "      <td>0.515128</td>\n",
              "      <td>0.744812</td>\n",
              "      <td>0.080787</td>\n",
              "      <td>0.714320</td>\n",
              "      <td>0.230712</td>\n",
              "      <td>0.614152</td>\n",
              "      <td>-0.260301</td>\n",
              "      <td>0.613647</td>\n",
              "      <td>-0.126215</td>\n",
              "      <td>0.127902</td>\n",
              "      <td>NaN</td>\n",
              "    </tr>\n",
              "    <tr>\n",
              "      <th>LoggedActivitiesDistance</th>\n",
              "      <td>0.146380</td>\n",
              "      <td>0.164312</td>\n",
              "      <td>1.000000</td>\n",
              "      <td>0.154754</td>\n",
              "      <td>0.060123</td>\n",
              "      <td>0.115671</td>\n",
              "      <td>0.091091</td>\n",
              "      <td>0.218253</td>\n",
              "      <td>0.231675</td>\n",
              "      <td>0.133856</td>\n",
              "      <td>-0.092991</td>\n",
              "      <td>0.148740</td>\n",
              "      <td>-0.084718</td>\n",
              "      <td>0.092581</td>\n",
              "      <td>NaN</td>\n",
              "    </tr>\n",
              "    <tr>\n",
              "      <th>VeryActiveDistance</th>\n",
              "      <td>0.733689</td>\n",
              "      <td>0.791778</td>\n",
              "      <td>0.154754</td>\n",
              "      <td>1.000000</td>\n",
              "      <td>0.240440</td>\n",
              "      <td>0.264580</td>\n",
              "      <td>0.044666</td>\n",
              "      <td>0.854292</td>\n",
              "      <td>0.129528</td>\n",
              "      <td>0.193593</td>\n",
              "      <td>-0.087726</td>\n",
              "      <td>0.434133</td>\n",
              "      <td>-0.117278</td>\n",
              "      <td>0.118005</td>\n",
              "      <td>NaN</td>\n",
              "    </tr>\n",
              "    <tr>\n",
              "      <th>ModeratelyActiveDistance</th>\n",
              "      <td>0.541838</td>\n",
              "      <td>0.515128</td>\n",
              "      <td>0.060123</td>\n",
              "      <td>0.240440</td>\n",
              "      <td>1.000000</td>\n",
              "      <td>0.326959</td>\n",
              "      <td>0.016350</td>\n",
              "      <td>0.272720</td>\n",
              "      <td>0.480906</td>\n",
              "      <td>0.291906</td>\n",
              "      <td>-0.236723</td>\n",
              "      <td>0.300781</td>\n",
              "      <td>-0.080761</td>\n",
              "      <td>0.096244</td>\n",
              "      <td>NaN</td>\n",
              "    </tr>\n",
              "    <tr>\n",
              "      <th>LightActiveDistance</th>\n",
              "      <td>0.775562</td>\n",
              "      <td>0.744812</td>\n",
              "      <td>0.115671</td>\n",
              "      <td>0.264580</td>\n",
              "      <td>0.326959</td>\n",
              "      <td>1.000000</td>\n",
              "      <td>0.069051</td>\n",
              "      <td>0.276649</td>\n",
              "      <td>0.112307</td>\n",
              "      <td>0.857555</td>\n",
              "      <td>-0.343560</td>\n",
              "      <td>0.451239</td>\n",
              "      <td>-0.145518</td>\n",
              "      <td>0.173448</td>\n",
              "      <td>NaN</td>\n",
              "    </tr>\n",
              "    <tr>\n",
              "      <th>SedentaryActiveDistance</th>\n",
              "      <td>0.081965</td>\n",
              "      <td>0.080787</td>\n",
              "      <td>0.091091</td>\n",
              "      <td>0.044666</td>\n",
              "      <td>0.016350</td>\n",
              "      <td>0.069051</td>\n",
              "      <td>1.000000</td>\n",
              "      <td>0.032322</td>\n",
              "      <td>-0.003361</td>\n",
              "      <td>0.110162</td>\n",
              "      <td>0.042280</td>\n",
              "      <td>0.096874</td>\n",
              "      <td>-0.015134</td>\n",
              "      <td>0.000613</td>\n",
              "      <td>NaN</td>\n",
              "    </tr>\n",
              "    <tr>\n",
              "      <th>VeryActiveMinutes</th>\n",
              "      <td>0.699699</td>\n",
              "      <td>0.714320</td>\n",
              "      <td>0.218253</td>\n",
              "      <td>0.854292</td>\n",
              "      <td>0.272720</td>\n",
              "      <td>0.276649</td>\n",
              "      <td>0.032322</td>\n",
              "      <td>1.000000</td>\n",
              "      <td>0.167764</td>\n",
              "      <td>0.199697</td>\n",
              "      <td>-0.177652</td>\n",
              "      <td>0.518905</td>\n",
              "      <td>-0.138809</td>\n",
              "      <td>0.142937</td>\n",
              "      <td>NaN</td>\n",
              "    </tr>\n",
              "    <tr>\n",
              "      <th>FairlyActiveMinutes</th>\n",
              "      <td>0.238389</td>\n",
              "      <td>0.230712</td>\n",
              "      <td>0.231675</td>\n",
              "      <td>0.129528</td>\n",
              "      <td>0.480906</td>\n",
              "      <td>0.112307</td>\n",
              "      <td>-0.003361</td>\n",
              "      <td>0.167764</td>\n",
              "      <td>1.000000</td>\n",
              "      <td>0.095449</td>\n",
              "      <td>-0.142598</td>\n",
              "      <td>0.334550</td>\n",
              "      <td>-0.092093</td>\n",
              "      <td>0.074754</td>\n",
              "      <td>NaN</td>\n",
              "    </tr>\n",
              "    <tr>\n",
              "      <th>LightlyActiveMinutes</th>\n",
              "      <td>0.654418</td>\n",
              "      <td>0.614152</td>\n",
              "      <td>0.133856</td>\n",
              "      <td>0.193593</td>\n",
              "      <td>0.291906</td>\n",
              "      <td>0.857555</td>\n",
              "      <td>0.110162</td>\n",
              "      <td>0.199697</td>\n",
              "      <td>0.095449</td>\n",
              "      <td>1.000000</td>\n",
              "      <td>-0.393499</td>\n",
              "      <td>0.377249</td>\n",
              "      <td>-0.187763</td>\n",
              "      <td>0.203407</td>\n",
              "      <td>NaN</td>\n",
              "    </tr>\n",
              "    <tr>\n",
              "      <th>SedentaryMinutes</th>\n",
              "      <td>-0.285258</td>\n",
              "      <td>-0.260301</td>\n",
              "      <td>-0.092991</td>\n",
              "      <td>-0.087726</td>\n",
              "      <td>-0.236723</td>\n",
              "      <td>-0.343560</td>\n",
              "      <td>0.042280</td>\n",
              "      <td>-0.177652</td>\n",
              "      <td>-0.142598</td>\n",
              "      <td>-0.393499</td>\n",
              "      <td>1.000000</td>\n",
              "      <td>0.011824</td>\n",
              "      <td>0.093972</td>\n",
              "      <td>-0.217979</td>\n",
              "      <td>NaN</td>\n",
              "    </tr>\n",
              "    <tr>\n",
              "      <th>Calories</th>\n",
              "      <td>0.581380</td>\n",
              "      <td>0.613647</td>\n",
              "      <td>0.148740</td>\n",
              "      <td>0.434133</td>\n",
              "      <td>0.300781</td>\n",
              "      <td>0.451239</td>\n",
              "      <td>0.096874</td>\n",
              "      <td>0.518905</td>\n",
              "      <td>0.334550</td>\n",
              "      <td>0.377249</td>\n",
              "      <td>0.011824</td>\n",
              "      <td>1.000000</td>\n",
              "      <td>-0.076567</td>\n",
              "      <td>-0.048152</td>\n",
              "      <td>NaN</td>\n",
              "    </tr>\n",
              "    <tr>\n",
              "      <th>day</th>\n",
              "      <td>-0.122238</td>\n",
              "      <td>-0.126215</td>\n",
              "      <td>-0.084718</td>\n",
              "      <td>-0.117278</td>\n",
              "      <td>-0.080761</td>\n",
              "      <td>-0.145518</td>\n",
              "      <td>-0.015134</td>\n",
              "      <td>-0.138809</td>\n",
              "      <td>-0.092093</td>\n",
              "      <td>-0.187763</td>\n",
              "      <td>0.093972</td>\n",
              "      <td>-0.076567</td>\n",
              "      <td>1.000000</td>\n",
              "      <td>-0.874222</td>\n",
              "      <td>NaN</td>\n",
              "    </tr>\n",
              "    <tr>\n",
              "      <th>month</th>\n",
              "      <td>0.125961</td>\n",
              "      <td>0.127902</td>\n",
              "      <td>0.092581</td>\n",
              "      <td>0.118005</td>\n",
              "      <td>0.096244</td>\n",
              "      <td>0.173448</td>\n",
              "      <td>0.000613</td>\n",
              "      <td>0.142937</td>\n",
              "      <td>0.074754</td>\n",
              "      <td>0.203407</td>\n",
              "      <td>-0.217979</td>\n",
              "      <td>-0.048152</td>\n",
              "      <td>-0.874222</td>\n",
              "      <td>1.000000</td>\n",
              "      <td>NaN</td>\n",
              "    </tr>\n",
              "    <tr>\n",
              "      <th>year</th>\n",
              "      <td>NaN</td>\n",
              "      <td>NaN</td>\n",
              "      <td>NaN</td>\n",
              "      <td>NaN</td>\n",
              "      <td>NaN</td>\n",
              "      <td>NaN</td>\n",
              "      <td>NaN</td>\n",
              "      <td>NaN</td>\n",
              "      <td>NaN</td>\n",
              "      <td>NaN</td>\n",
              "      <td>NaN</td>\n",
              "      <td>NaN</td>\n",
              "      <td>NaN</td>\n",
              "      <td>NaN</td>\n",
              "      <td>NaN</td>\n",
              "    </tr>\n",
              "  </tbody>\n",
              "</table>\n",
              "</div>"
            ],
            "text/plain": [
              "                          TotalSteps  TotalDistance  ...     month  year\n",
              "TotalSteps                  1.000000       0.986789  ...  0.125961   NaN\n",
              "TotalDistance               0.986789       1.000000  ...  0.127902   NaN\n",
              "LoggedActivitiesDistance    0.146380       0.164312  ...  0.092581   NaN\n",
              "VeryActiveDistance          0.733689       0.791778  ...  0.118005   NaN\n",
              "ModeratelyActiveDistance    0.541838       0.515128  ...  0.096244   NaN\n",
              "LightActiveDistance         0.775562       0.744812  ...  0.173448   NaN\n",
              "SedentaryActiveDistance     0.081965       0.080787  ...  0.000613   NaN\n",
              "VeryActiveMinutes           0.699699       0.714320  ...  0.142937   NaN\n",
              "FairlyActiveMinutes         0.238389       0.230712  ...  0.074754   NaN\n",
              "LightlyActiveMinutes        0.654418       0.614152  ...  0.203407   NaN\n",
              "SedentaryMinutes           -0.285258      -0.260301  ... -0.217979   NaN\n",
              "Calories                    0.581380       0.613647  ... -0.048152   NaN\n",
              "day                        -0.122238      -0.126215  ... -0.874222   NaN\n",
              "month                       0.125961       0.127902  ...  1.000000   NaN\n",
              "year                             NaN            NaN  ...       NaN   NaN\n",
              "\n",
              "[15 rows x 15 columns]"
            ]
          },
          "metadata": {
            "tags": []
          },
          "execution_count": 64
        }
      ]
    },
    {
      "cell_type": "code",
      "metadata": {
        "id": "nnv4-SePIV-r",
        "colab_type": "code",
        "colab": {
          "base_uri": "https://localhost:8080/",
          "height": 717
        },
        "outputId": "139a6b72-220a-4937-e453-b7a673361a9f"
      },
      "source": [
        "# Co-relation matrix\n",
        "plt.figure(figsize = (10, 10))\n",
        "sns.heatmap(df.corr(), annot = True, fmt = '.0%')\n",
        "plt.show()"
      ],
      "execution_count": null,
      "outputs": [
        {
          "output_type": "display_data",
          "data": {
            "image/png": "[encoded data removed]",
            "text/plain": [
              "<Figure size 720x720 with 2 Axes>"
            ]
          },
          "metadata": {
            "tags": [],
            "needs_background": "light"
          }
        }
      ]
    },
    {
      "cell_type": "markdown",
      "metadata": {
        "id": "O16iLQRP8xoD",
        "colab_type": "text"
      },
      "source": [
        "The Correlation matrix has a lot of positive relation which means that as one variable increases, the corresponding varaible increases by the respective percentage.\n",
        "\n",
        "1. We can observe that Calories and TotalDistance have correlation of \n",
        "a percentage of 61% meaning as the TotalDistance is increased, Calories increases by 61% and so on.\n",
        "\n",
        "2. There is a 86% correlation between LightActiveDistance and LightlyActiveMinutes.\n"
      ]
    },
    {
      "cell_type": "markdown",
      "metadata": {
        "id": "18Ip7mBK-lHh",
        "colab_type": "text"
      },
      "source": [
        "# Conclusion"
      ]
    },
    {
      "cell_type": "markdown",
      "metadata": {
        "id": "k-Wb4zkA9aaH",
        "colab_type": "text"
      },
      "source": [
        "1. The dataset predicts the amount of calories burnt.\n",
        "2. The activity date has been converted to day, month and year and analysed.\n",
        "3. Analysis based on different variables affecting the calories burnt have been done.\n",
        "4. Correlation matrix have been analysed.\n",
        "5. This is a regression type of problem for ML."
      ]
    }
  ]
}