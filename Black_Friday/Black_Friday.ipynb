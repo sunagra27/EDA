{
  "nbformat": 4,
  "nbformat_minor": 0,
  "metadata": {
    "colab": {
      "name": "Black_Friday.ipynb",
      "provenance": [],
      "collapsed_sections": []
    },
    "kernelspec": {
      "name": "python3",
      "display_name": "Python 3"
    }
  },
  "cells": [
    {
      "cell_type": "code",
      "metadata": {
        "id": "otBxCHZ04VvN",
        "colab_type": "code",
        "colab": {
          "base_uri": "https://localhost:8080/",
          "height": 70
        },
        "outputId": "bc6fb53c-9fce-4ef4-a70d-e44beeedcaa4"
      },
      "source": [
        "import pandas as pd\n",
        "import numpy as np\n",
        "import matplotlib.pyplot as plt\n",
        "import seaborn as sns\n",
        "import warnings\n",
        "warnings.filterwarnings('ignore')"
      ],
      "execution_count": 1,
      "outputs": [
        {
          "output_type": "stream",
          "text": [
            "/usr/local/lib/python3.6/dist-packages/statsmodels/tools/_testing.py:19: FutureWarning: pandas.util.testing is deprecated. Use the functions in the public API at pandas.testing instead.\n",
            "  import pandas.util.testing as tm\n"
          ],
          "name": "stderr"
        }
      ]
    },
    {
      "cell_type": "code",
      "metadata": {
        "id": "3OGgCWzp4cgj",
        "colab_type": "code",
        "colab": {}
      },
      "source": [
        "df = pd.read_csv('blackFriday_train.csv')"
      ],
      "execution_count": 2,
      "outputs": []
    },
    {
      "cell_type": "code",
      "metadata": {
        "id": "Ao_Cv_e04mcW",
        "colab_type": "code",
        "colab": {
          "base_uri": "https://localhost:8080/",
          "height": 195
        },
        "outputId": "ee16d0da-e0db-40b1-8f48-c681ef810185"
      },
      "source": [
        "df.head()"
      ],
      "execution_count": 3,
      "outputs": [
        {
          "output_type": "execute_result",
          "data": {
            "text/html": [
              "<div>\n",
              "<style scoped>\n",
              "    .dataframe tbody tr th:only-of-type {\n",
              "        vertical-align: middle;\n",
              "    }\n",
              "\n",
              "    .dataframe tbody tr th {\n",
              "        vertical-align: top;\n",
              "    }\n",
              "\n",
              "    .dataframe thead th {\n",
              "        text-align: right;\n",
              "    }\n",
              "</style>\n",
              "<table border=\"1\" class=\"dataframe\">\n",
              "  <thead>\n",
              "    <tr style=\"text-align: right;\">\n",
              "      <th></th>\n",
              "      <th>User_ID</th>\n",
              "      <th>Product_ID</th>\n",
              "      <th>Gender</th>\n",
              "      <th>Age</th>\n",
              "      <th>Occupation</th>\n",
              "      <th>City_Category</th>\n",
              "      <th>Stay_In_Current_City_Years</th>\n",
              "      <th>Marital_Status</th>\n",
              "      <th>Product_Category_1</th>\n",
              "      <th>Product_Category_2</th>\n",
              "      <th>Product_Category_3</th>\n",
              "      <th>Purchase</th>\n",
              "    </tr>\n",
              "  </thead>\n",
              "  <tbody>\n",
              "    <tr>\n",
              "      <th>0</th>\n",
              "      <td>1000001</td>\n",
              "      <td>P00069042</td>\n",
              "      <td>F</td>\n",
              "      <td>0-17</td>\n",
              "      <td>10</td>\n",
              "      <td>A</td>\n",
              "      <td>2</td>\n",
              "      <td>0</td>\n",
              "      <td>3.0</td>\n",
              "      <td>NaN</td>\n",
              "      <td>NaN</td>\n",
              "      <td>8370.0</td>\n",
              "    </tr>\n",
              "    <tr>\n",
              "      <th>1</th>\n",
              "      <td>1000001</td>\n",
              "      <td>P00248942</td>\n",
              "      <td>F</td>\n",
              "      <td>0-17</td>\n",
              "      <td>10</td>\n",
              "      <td>A</td>\n",
              "      <td>2</td>\n",
              "      <td>0</td>\n",
              "      <td>1.0</td>\n",
              "      <td>6.0</td>\n",
              "      <td>14.0</td>\n",
              "      <td>15200.0</td>\n",
              "    </tr>\n",
              "    <tr>\n",
              "      <th>2</th>\n",
              "      <td>1000001</td>\n",
              "      <td>P00087842</td>\n",
              "      <td>F</td>\n",
              "      <td>0-17</td>\n",
              "      <td>10</td>\n",
              "      <td>A</td>\n",
              "      <td>2</td>\n",
              "      <td>0</td>\n",
              "      <td>12.0</td>\n",
              "      <td>NaN</td>\n",
              "      <td>NaN</td>\n",
              "      <td>1422.0</td>\n",
              "    </tr>\n",
              "    <tr>\n",
              "      <th>3</th>\n",
              "      <td>1000001</td>\n",
              "      <td>P00085442</td>\n",
              "      <td>F</td>\n",
              "      <td>0-17</td>\n",
              "      <td>10</td>\n",
              "      <td>A</td>\n",
              "      <td>2</td>\n",
              "      <td>0</td>\n",
              "      <td>12.0</td>\n",
              "      <td>14.0</td>\n",
              "      <td>NaN</td>\n",
              "      <td>1057.0</td>\n",
              "    </tr>\n",
              "    <tr>\n",
              "      <th>4</th>\n",
              "      <td>1000002</td>\n",
              "      <td>P00285442</td>\n",
              "      <td>M</td>\n",
              "      <td>55+</td>\n",
              "      <td>16</td>\n",
              "      <td>C</td>\n",
              "      <td>4+</td>\n",
              "      <td>0</td>\n",
              "      <td>8.0</td>\n",
              "      <td>NaN</td>\n",
              "      <td>NaN</td>\n",
              "      <td>7969.0</td>\n",
              "    </tr>\n",
              "  </tbody>\n",
              "</table>\n",
              "</div>"
            ],
            "text/plain": [
              "   User_ID Product_ID Gender  ... Product_Category_2  Product_Category_3 Purchase\n",
              "0  1000001  P00069042      F  ...                NaN                 NaN   8370.0\n",
              "1  1000001  P00248942      F  ...                6.0                14.0  15200.0\n",
              "2  1000001  P00087842      F  ...                NaN                 NaN   1422.0\n",
              "3  1000001  P00085442      F  ...               14.0                 NaN   1057.0\n",
              "4  1000002  P00285442      M  ...                NaN                 NaN   7969.0\n",
              "\n",
              "[5 rows x 12 columns]"
            ]
          },
          "metadata": {
            "tags": []
          },
          "execution_count": 3
        }
      ]
    },
    {
      "cell_type": "markdown",
      "metadata": {
        "id": "qFxEHpMETqrk",
        "colab_type": "text"
      },
      "source": [
        "# Black Friday Sales Dataset\n",
        "\n",
        "This dataset contains the sales details of a store. The dataset have 12 attributes (parameters) out of which there are 11 independent variables (User_ID, Product_ID, Gender, Age, Occupation, City_Category, Stay_In_Current_City, Marital_status, Product_Category_1, Product_Category_2 and Product_Category_3) and 1 dependent variable (Purchase).\n",
        "\n",
        "The analysis of Independent variables with respect to Dependent variable is done."
      ]
    },
    {
      "cell_type": "code",
      "metadata": {
        "id": "Qqn-CsHxVCzt",
        "colab_type": "code",
        "colab": {
          "base_uri": "https://localhost:8080/",
          "height": 336
        },
        "outputId": "30cebc7e-a62d-4889-dde9-6e87d09cfe75"
      },
      "source": [
        "df.info()"
      ],
      "execution_count": 4,
      "outputs": [
        {
          "output_type": "stream",
          "text": [
            "<class 'pandas.core.frame.DataFrame'>\n",
            "RangeIndex: 225870 entries, 0 to 225869\n",
            "Data columns (total 12 columns):\n",
            " #   Column                      Non-Null Count   Dtype  \n",
            "---  ------                      --------------   -----  \n",
            " 0   User_ID                     225870 non-null  int64  \n",
            " 1   Product_ID                  225870 non-null  object \n",
            " 2   Gender                      225870 non-null  object \n",
            " 3   Age                         225870 non-null  object \n",
            " 4   Occupation                  225870 non-null  int64  \n",
            " 5   City_Category               225870 non-null  object \n",
            " 6   Stay_In_Current_City_Years  225870 non-null  object \n",
            " 7   Marital_Status              225870 non-null  int64  \n",
            " 8   Product_Category_1          225869 non-null  float64\n",
            " 9   Product_Category_2          155760 non-null  float64\n",
            " 10  Product_Category_3          69140 non-null   float64\n",
            " 11  Purchase                    225869 non-null  float64\n",
            "dtypes: float64(4), int64(3), object(5)\n",
            "memory usage: 20.7+ MB\n"
          ],
          "name": "stdout"
        }
      ]
    },
    {
      "cell_type": "markdown",
      "metadata": {
        "id": "snGJMeQnVdpK",
        "colab_type": "text"
      },
      "source": [
        "Overall detail of dataset is given through df.info()\n",
        "\n",
        "1. There are about 67759 samples in dataset.\n",
        "2. From clear observation, we can see that Product_Category_2 and 3 does not satisfy the samples present and we can conclude that these variables have null values present.\n",
        "3. The User_Id and Product_ID is not much an influencial to the Purchase made. So, these variables is eliminated.\n",
        "4. We observe that Age is having object datatype since age is in range and not single number.\n",
        "5. The variables Product_Category_2 and Product_Category_3 are given as float64 object. This is converted to int64 since it is a categorical value and not a floating number.\n",
        "\n"
      ]
    },
    {
      "cell_type": "markdown",
      "metadata": {
        "id": "QoNlF5HNaIU7",
        "colab_type": "text"
      },
      "source": [
        "# Addressing missing values"
      ]
    },
    {
      "cell_type": "code",
      "metadata": {
        "id": "UhiuAiRVaKpE",
        "colab_type": "code",
        "colab": {
          "base_uri": "https://localhost:8080/",
          "height": 235
        },
        "outputId": "7f70657e-1359-4e01-82c6-f0d4700dbdaf"
      },
      "source": [
        "df.isnull().sum()"
      ],
      "execution_count": 5,
      "outputs": [
        {
          "output_type": "execute_result",
          "data": {
            "text/plain": [
              "User_ID                            0\n",
              "Product_ID                         0\n",
              "Gender                             0\n",
              "Age                                0\n",
              "Occupation                         0\n",
              "City_Category                      0\n",
              "Stay_In_Current_City_Years         0\n",
              "Marital_Status                     0\n",
              "Product_Category_1                 1\n",
              "Product_Category_2             70110\n",
              "Product_Category_3            156730\n",
              "Purchase                           1\n",
              "dtype: int64"
            ]
          },
          "metadata": {
            "tags": []
          },
          "execution_count": 5
        }
      ]
    },
    {
      "cell_type": "code",
      "metadata": {
        "id": "EsBhekrdaRAM",
        "colab_type": "code",
        "colab": {
          "base_uri": "https://localhost:8080/",
          "height": 67
        },
        "outputId": "74e77467-d8c2-4bec-aa65-7a6c60469bab"
      },
      "source": [
        "print([df['Product_Category_2'].unique(), df['Product_Category_3'].unique()])"
      ],
      "execution_count": 6,
      "outputs": [
        {
          "output_type": "stream",
          "text": [
            "[array([nan,  6., 14.,  2.,  8., 15., 16., 11.,  5.,  3.,  4., 12.,  9.,\n",
            "       10., 17., 13.,  7., 18.]), array([nan, 14., 17.,  5.,  4., 16., 15.,  8.,  9., 13.,  6., 12.,  3.,\n",
            "       18., 11., 10.])]\n"
          ],
          "name": "stdout"
        }
      ]
    },
    {
      "cell_type": "markdown",
      "metadata": {
        "id": "WiKIvZkvazyK",
        "colab_type": "text"
      },
      "source": [
        "The Product_Category 2 and 3 have a lot of missing values (NaN). Few observations can be made from the uniqueness of it.\n",
        "\n",
        "1. Since it is a categorical variable, the value has to be unique value. \n",
        "2. The mean, median and mode impute method is not necessary since it is not a continuous variable and the value 0 can be assigned.\n",
        "3. The value zero implies that the product does not come into any category. "
      ]
    },
    {
      "cell_type": "code",
      "metadata": {
        "id": "TOV-6LCDbrq1",
        "colab_type": "code",
        "colab": {}
      },
      "source": [
        "df['Product_Category_2'].fillna(0, inplace = True)\n",
        "df['Product_Category_3'].fillna(0, inplace = True)"
      ],
      "execution_count": 7,
      "outputs": []
    },
    {
      "cell_type": "markdown",
      "metadata": {
        "id": "V7uop_ksb7Gx",
        "colab_type": "text"
      },
      "source": [
        "# Conversion of data types"
      ]
    },
    {
      "cell_type": "code",
      "metadata": {
        "id": "KJA9APrzceBy",
        "colab_type": "code",
        "colab": {}
      },
      "source": [
        "df.Product_Category_2 = df.Product_Category_2.astype('int64')\n",
        "df.Product_Category_3 = df.Product_Category_3.astype('int64')"
      ],
      "execution_count": 8,
      "outputs": []
    },
    {
      "cell_type": "code",
      "metadata": {
        "id": "wRRBs8mpcItv",
        "colab_type": "code",
        "colab": {
          "base_uri": "https://localhost:8080/",
          "height": 118
        },
        "outputId": "44d9d660-3130-4d1e-8687-05f5d9d628f9"
      },
      "source": [
        "df['Stay_In_Current_City_Years'].value_counts()"
      ],
      "execution_count": 9,
      "outputs": [
        {
          "output_type": "execute_result",
          "data": {
            "text/plain": [
              "1     79359\n",
              "2     41884\n",
              "3     39177\n",
              "4+    34942\n",
              "0     30508\n",
              "Name: Stay_In_Current_City_Years, dtype: int64"
            ]
          },
          "metadata": {
            "tags": []
          },
          "execution_count": 9
        }
      ]
    },
    {
      "cell_type": "markdown",
      "metadata": {
        "id": "T1pCFmjUcq3e",
        "colab_type": "text"
      },
      "source": [
        "The variable Stay_In_Current_city_years contains the string \"4+\". For our understanding it can be converted to int64. But since it contains \"+\" sign, it can be treated as an object itself."
      ]
    },
    {
      "cell_type": "markdown",
      "metadata": {
        "id": "gcsJ8TpOfwr9",
        "colab_type": "text"
      },
      "source": [
        "# Data Exploration and Analysis"
      ]
    },
    {
      "cell_type": "markdown",
      "metadata": {
        "id": "c3izzawXk2-X",
        "colab_type": "text"
      },
      "source": [
        "1. Amount of Purchase based on age"
      ]
    },
    {
      "cell_type": "code",
      "metadata": {
        "id": "zX_g9VCjTiBt",
        "colab_type": "code",
        "colab": {
          "base_uri": "https://localhost:8080/",
          "height": 151
        },
        "outputId": "f6195253-8a7d-4cf1-d71a-4c48b5a7d256"
      },
      "source": [
        "df['Age'].value_counts()"
      ],
      "execution_count": 10,
      "outputs": [
        {
          "output_type": "execute_result",
          "data": {
            "text/plain": [
              "26-35    90062\n",
              "36-45    45050\n",
              "18-25    41359\n",
              "46-50    18523\n",
              "51-55    15933\n",
              "55+       8870\n",
              "0-17      6073\n",
              "Name: Age, dtype: int64"
            ]
          },
          "metadata": {
            "tags": []
          },
          "execution_count": 10
        }
      ]
    },
    {
      "cell_type": "code",
      "metadata": {
        "id": "5ovIIFeggKcU",
        "colab_type": "code",
        "colab": {}
      },
      "source": [
        "#df.groupby('Age')['Purchase'].value()"
      ],
      "execution_count": 11,
      "outputs": []
    },
    {
      "cell_type": "code",
      "metadata": {
        "id": "gNdqUxY8gdaU",
        "colab_type": "code",
        "colab": {
          "base_uri": "https://localhost:8080/",
          "height": 168
        },
        "outputId": "b2d5e865-73e6-4796-e0a7-7439b4413f5b"
      },
      "source": [
        "df_age = df.groupby('Age')['Purchase'].mean()\n",
        "df_age"
      ],
      "execution_count": 12,
      "outputs": [
        {
          "output_type": "execute_result",
          "data": {
            "text/plain": [
              "Age\n",
              "0-17     9071.934464\n",
              "18-25    9195.376605\n",
              "26-35    9299.240914\n",
              "36-45    9390.007259\n",
              "46-50    9289.651514\n",
              "51-55    9631.527019\n",
              "55+      9397.478016\n",
              "Name: Purchase, dtype: float64"
            ]
          },
          "metadata": {
            "tags": []
          },
          "execution_count": 12
        }
      ]
    },
    {
      "cell_type": "code",
      "metadata": {
        "id": "UuQzHcM3g4wo",
        "colab_type": "code",
        "colab": {
          "base_uri": "https://localhost:8080/",
          "height": 34
        },
        "outputId": "4723ae6d-f6f4-4ce1-e1a9-17c687456cf2"
      },
      "source": [
        "type(df_age)"
      ],
      "execution_count": 13,
      "outputs": [
        {
          "output_type": "execute_result",
          "data": {
            "text/plain": [
              "pandas.core.series.Series"
            ]
          },
          "metadata": {
            "tags": []
          },
          "execution_count": 13
        }
      ]
    },
    {
      "cell_type": "code",
      "metadata": {
        "id": "XiAcNEHRhq-R",
        "colab_type": "code",
        "colab": {
          "base_uri": "https://localhost:8080/",
          "height": 50
        },
        "outputId": "3343f97c-ba5c-4ae1-f018-e07cfdd60ed1"
      },
      "source": [
        "df_age.values"
      ],
      "execution_count": 14,
      "outputs": [
        {
          "output_type": "execute_result",
          "data": {
            "text/plain": [
              "array([9071.93446402, 9195.37660485, 9299.24091449, 9390.0072586 ,\n",
              "       9289.65151433, 9631.52701939, 9397.47801578])"
            ]
          },
          "metadata": {
            "tags": []
          },
          "execution_count": 14
        }
      ]
    },
    {
      "cell_type": "code",
      "metadata": {
        "id": "SzZ3hu6FgpQa",
        "colab_type": "code",
        "colab": {
          "base_uri": "https://localhost:8080/",
          "height": 499
        },
        "outputId": "80fab61b-543c-4926-9661-c3862637cd88"
      },
      "source": [
        "fig, ax = plt.subplots(2, figsize = (8,8))\n",
        "\n",
        "sns.barplot(df_age.index, df_age.values, ax = ax[0])\n",
        "sns.lineplot(df_age.index, df_age.values, ax = ax[1], markers = True)\n",
        "plt.grid()\n",
        "plt.show()"
      ],
      "execution_count": 15,
      "outputs": [
        {
          "output_type": "display_data",
          "data": {
            "image/png": "[encoded data removed]",
            "text/plain": [
              "<Figure size 576x576 with 2 Axes>"
            ]
          },
          "metadata": {
            "tags": [],
            "needs_background": "light"
          }
        }
      ]
    },
    {
      "cell_type": "markdown",
      "metadata": {
        "id": "NBqmp2i8jzxM",
        "colab_type": "text"
      },
      "source": [
        "From age group, We can observe that people with age group of 51-55 has a highest purchase which is about 9534 units while age group of 0-17 has the least purchase.\n"
      ]
    },
    {
      "cell_type": "markdown",
      "metadata": {
        "id": "HictillDkwtR",
        "colab_type": "text"
      },
      "source": [
        "2. Amount of Purchase based on Gender and Marital status"
      ]
    },
    {
      "cell_type": "code",
      "metadata": {
        "id": "AYb8R02Kk-Ej",
        "colab_type": "code",
        "colab": {
          "base_uri": "https://localhost:8080/",
          "height": 84
        },
        "outputId": "c6a226a2-6167-4c86-d740-2a2679445d8d"
      },
      "source": [
        "df.groupby('Gender')['Purchase'].mean()"
      ],
      "execution_count": 16,
      "outputs": [
        {
          "output_type": "execute_result",
          "data": {
            "text/plain": [
              "Gender\n",
              "F    8812.496249\n",
              "M    9482.939717\n",
              "Name: Purchase, dtype: float64"
            ]
          },
          "metadata": {
            "tags": []
          },
          "execution_count": 16
        }
      ]
    },
    {
      "cell_type": "markdown",
      "metadata": {
        "id": "M0300gtulmDl",
        "colab_type": "text"
      },
      "source": [
        "From Gender analysis, we can see that Male have made more purchases than Females. "
      ]
    },
    {
      "cell_type": "code",
      "metadata": {
        "id": "2dnOmVjEyoSP",
        "colab_type": "code",
        "colab": {
          "base_uri": "https://localhost:8080/",
          "height": 278
        },
        "outputId": "98d964b2-061d-465c-a73e-8dc9968a573a"
      },
      "source": [
        "df_gender = df.groupby(['Gender', 'Marital_Status'])['Purchase'].mean()\n",
        "df_gender.unstack().plot.bar()\n",
        "plt.show()"
      ],
      "execution_count": 17,
      "outputs": [
        {
          "output_type": "display_data",
          "data": {
            "image/png": "[encoded data removed]",
            "text/plain": [
              "<Figure size 432x288 with 1 Axes>"
            ]
          },
          "metadata": {
            "tags": [],
            "needs_background": "light"
          }
        }
      ]
    },
    {
      "cell_type": "markdown",
      "metadata": {
        "id": "dkpPtOZmzjwY",
        "colab_type": "text"
      },
      "source": [
        "From this analysis, we can observe that the Unmarried Male have highest purchases then the rest of the categories."
      ]
    },
    {
      "cell_type": "markdown",
      "metadata": {
        "id": "jQxnFAZ4uuRK",
        "colab_type": "text"
      },
      "source": [
        "3. Purchases Based on City"
      ]
    },
    {
      "cell_type": "code",
      "metadata": {
        "id": "DwZ76vAsnMWL",
        "colab_type": "code",
        "colab": {}
      },
      "source": [
        "df_city = df.groupby('City_Category')['Purchase'].mean()"
      ],
      "execution_count": 18,
      "outputs": []
    },
    {
      "cell_type": "code",
      "metadata": {
        "id": "3APsDQCBvDFh",
        "colab_type": "code",
        "colab": {
          "base_uri": "https://localhost:8080/",
          "height": 280
        },
        "outputId": "6ac32184-571a-4a91-8228-0232a013c9a8"
      },
      "source": [
        "sns.barplot(df_city.index, df_city.values)\n",
        "plt.show()"
      ],
      "execution_count": 19,
      "outputs": [
        {
          "output_type": "display_data",
          "data": {
            "image/png": "[encoded data removed]",
            "text/plain": [
              "<Figure size 432x288 with 1 Axes>"
            ]
          },
          "metadata": {
            "tags": [],
            "needs_background": "light"
          }
        }
      ]
    },
    {
      "cell_type": "markdown",
      "metadata": {
        "id": "D6hjocTDwW_F",
        "colab_type": "text"
      },
      "source": [
        "Based on the bar graph, we can infer that City_Category 'C' has the highest purchase amount."
      ]
    },
    {
      "cell_type": "code",
      "metadata": {
        "id": "tOtboyvbnL-5",
        "colab_type": "code",
        "colab": {
          "base_uri": "https://localhost:8080/",
          "height": 195
        },
        "outputId": "25cbc0cd-7869-4697-b090-2d7610b1d3b7"
      },
      "source": [
        "df.head()"
      ],
      "execution_count": 20,
      "outputs": [
        {
          "output_type": "execute_result",
          "data": {
            "text/html": [
              "<div>\n",
              "<style scoped>\n",
              "    .dataframe tbody tr th:only-of-type {\n",
              "        vertical-align: middle;\n",
              "    }\n",
              "\n",
              "    .dataframe tbody tr th {\n",
              "        vertical-align: top;\n",
              "    }\n",
              "\n",
              "    .dataframe thead th {\n",
              "        text-align: right;\n",
              "    }\n",
              "</style>\n",
              "<table border=\"1\" class=\"dataframe\">\n",
              "  <thead>\n",
              "    <tr style=\"text-align: right;\">\n",
              "      <th></th>\n",
              "      <th>User_ID</th>\n",
              "      <th>Product_ID</th>\n",
              "      <th>Gender</th>\n",
              "      <th>Age</th>\n",
              "      <th>Occupation</th>\n",
              "      <th>City_Category</th>\n",
              "      <th>Stay_In_Current_City_Years</th>\n",
              "      <th>Marital_Status</th>\n",
              "      <th>Product_Category_1</th>\n",
              "      <th>Product_Category_2</th>\n",
              "      <th>Product_Category_3</th>\n",
              "      <th>Purchase</th>\n",
              "    </tr>\n",
              "  </thead>\n",
              "  <tbody>\n",
              "    <tr>\n",
              "      <th>0</th>\n",
              "      <td>1000001</td>\n",
              "      <td>P00069042</td>\n",
              "      <td>F</td>\n",
              "      <td>0-17</td>\n",
              "      <td>10</td>\n",
              "      <td>A</td>\n",
              "      <td>2</td>\n",
              "      <td>0</td>\n",
              "      <td>3.0</td>\n",
              "      <td>0</td>\n",
              "      <td>0</td>\n",
              "      <td>8370.0</td>\n",
              "    </tr>\n",
              "    <tr>\n",
              "      <th>1</th>\n",
              "      <td>1000001</td>\n",
              "      <td>P00248942</td>\n",
              "      <td>F</td>\n",
              "      <td>0-17</td>\n",
              "      <td>10</td>\n",
              "      <td>A</td>\n",
              "      <td>2</td>\n",
              "      <td>0</td>\n",
              "      <td>1.0</td>\n",
              "      <td>6</td>\n",
              "      <td>14</td>\n",
              "      <td>15200.0</td>\n",
              "    </tr>\n",
              "    <tr>\n",
              "      <th>2</th>\n",
              "      <td>1000001</td>\n",
              "      <td>P00087842</td>\n",
              "      <td>F</td>\n",
              "      <td>0-17</td>\n",
              "      <td>10</td>\n",
              "      <td>A</td>\n",
              "      <td>2</td>\n",
              "      <td>0</td>\n",
              "      <td>12.0</td>\n",
              "      <td>0</td>\n",
              "      <td>0</td>\n",
              "      <td>1422.0</td>\n",
              "    </tr>\n",
              "    <tr>\n",
              "      <th>3</th>\n",
              "      <td>1000001</td>\n",
              "      <td>P00085442</td>\n",
              "      <td>F</td>\n",
              "      <td>0-17</td>\n",
              "      <td>10</td>\n",
              "      <td>A</td>\n",
              "      <td>2</td>\n",
              "      <td>0</td>\n",
              "      <td>12.0</td>\n",
              "      <td>14</td>\n",
              "      <td>0</td>\n",
              "      <td>1057.0</td>\n",
              "    </tr>\n",
              "    <tr>\n",
              "      <th>4</th>\n",
              "      <td>1000002</td>\n",
              "      <td>P00285442</td>\n",
              "      <td>M</td>\n",
              "      <td>55+</td>\n",
              "      <td>16</td>\n",
              "      <td>C</td>\n",
              "      <td>4+</td>\n",
              "      <td>0</td>\n",
              "      <td>8.0</td>\n",
              "      <td>0</td>\n",
              "      <td>0</td>\n",
              "      <td>7969.0</td>\n",
              "    </tr>\n",
              "  </tbody>\n",
              "</table>\n",
              "</div>"
            ],
            "text/plain": [
              "   User_ID Product_ID Gender  ... Product_Category_2  Product_Category_3 Purchase\n",
              "0  1000001  P00069042      F  ...                  0                   0   8370.0\n",
              "1  1000001  P00248942      F  ...                  6                  14  15200.0\n",
              "2  1000001  P00087842      F  ...                  0                   0   1422.0\n",
              "3  1000001  P00085442      F  ...                 14                   0   1057.0\n",
              "4  1000002  P00285442      M  ...                  0                   0   7969.0\n",
              "\n",
              "[5 rows x 12 columns]"
            ]
          },
          "metadata": {
            "tags": []
          },
          "execution_count": 20
        }
      ]
    },
    {
      "cell_type": "markdown",
      "metadata": {
        "id": "RneIpBhgwgvh",
        "colab_type": "text"
      },
      "source": [
        "4. Purchases based on Occupation Type"
      ]
    },
    {
      "cell_type": "code",
      "metadata": {
        "id": "SGmi25FmwkZE",
        "colab_type": "code",
        "colab": {
          "base_uri": "https://localhost:8080/",
          "height": 265
        },
        "outputId": "4b345198-4cb7-457a-dfc7-5d5d16c6793a"
      },
      "source": [
        "data = df.groupby('Occupation')['Purchase'].mean()\n",
        "plt.plot(data.index, data.values, 'ro-')\n",
        "#data.plot.bar()\n",
        "plt.grid()\n",
        "plt.show()"
      ],
      "execution_count": 33,
      "outputs": [
        {
          "output_type": "display_data",
          "data": {
            "image/png": "[encoded data removed]",
            "text/plain": [
              "<Figure size 432x288 with 1 Axes>"
            ]
          },
          "metadata": {
            "tags": [],
            "needs_background": "light"
          }
        }
      ]
    },
    {
      "cell_type": "markdown",
      "metadata": {
        "id": "rXi0ivThxcUO",
        "colab_type": "text"
      },
      "source": [
        "From the Occupation graph, we can observe few things:\n",
        "\n",
        "1. People having Occupation type 9 has the least amount of purchases probably because their salaries are low.\n",
        "2. People with occupation type 12, 15, 17 have highest amount of purchases."
      ]
    },
    {
      "cell_type": "markdown",
      "metadata": {
        "id": "jzRCA5FaE2zP",
        "colab_type": "text"
      },
      "source": [
        "5. Purchases based on Product_Category"
      ]
    },
    {
      "cell_type": "code",
      "metadata": {
        "id": "bvwFLFuJHifN",
        "colab_type": "code",
        "colab": {
          "base_uri": "https://localhost:8080/",
          "height": 592
        },
        "outputId": "d73ffd91-b210-4a3c-8458-d3884287ea98"
      },
      "source": [
        "data_pc1 = df.groupby('Product_Category_1')['Purchase'].mean()\n",
        "data_pc2 = df.groupby('Product_Category_2')['Purchase'].mean()\n",
        "data_pc3 = df.groupby('Product_Category_3')['Purchase'].mean()\n",
        "\n",
        "fig, ax = plt.subplots(3, figsize = (10, 10))\n",
        "\n",
        "ax[0].plot(data_pc1, 'ro-')\n",
        "ax[1].plot(data_pc2, 'bo-')\n",
        "ax[2].plot(data_pc3, 'go-')\n",
        "plt.grid()\n",
        "plt.show()"
      ],
      "execution_count": 22,
      "outputs": [
        {
          "output_type": "display_data",
          "data": {
            "image/png": "[encoded data removed]",
            "text/plain": [
              "<Figure size 720x720 with 3 Axes>"
            ]
          },
          "metadata": {
            "tags": [],
            "needs_background": "light"
          }
        }
      ]
    },
    {
      "cell_type": "markdown",
      "metadata": {
        "id": "2rvZEGudKN9s",
        "colab_type": "text"
      },
      "source": [
        "From above analysis we can predict that:\n",
        "\n",
        "1. For Product_Category_1 and Product_Category_2 variable, the Product value having 10 has the highest purchase.\n",
        "2. For Product_Category_3, the Product value having 3 has the highest purchase.\n",
        "3. Neglecting 0 value in Product Category, Product2 has least amount of purchases for 6, 8, 12 and 14 values and Product3 has least amount of purchases for vlaue of 12. "
      ]
    },
    {
      "cell_type": "markdown",
      "metadata": {
        "id": "XUkOOQfEbMSo",
        "colab_type": "text"
      },
      "source": [
        "# Creating subset of dataframe for Married Female with Age > 25"
      ]
    },
    {
      "cell_type": "code",
      "metadata": {
        "id": "1OOWtIfQbCw3",
        "colab_type": "code",
        "colab": {
          "base_uri": "https://localhost:8080/",
          "height": 402
        },
        "outputId": "0e54947f-0beb-4471-864d-1df426d09071"
      },
      "source": [
        "d3 = df[(df.Gender=='F')&(df.Age>'25')&(df.Marital_Status == 1)]\n",
        "d3"
      ],
      "execution_count": 39,
      "outputs": [
        {
          "output_type": "execute_result",
          "data": {
            "text/html": [
              "<div>\n",
              "<style scoped>\n",
              "    .dataframe tbody tr th:only-of-type {\n",
              "        vertical-align: middle;\n",
              "    }\n",
              "\n",
              "    .dataframe tbody tr th {\n",
              "        vertical-align: top;\n",
              "    }\n",
              "\n",
              "    .dataframe thead th {\n",
              "        text-align: right;\n",
              "    }\n",
              "</style>\n",
              "<table border=\"1\" class=\"dataframe\">\n",
              "  <thead>\n",
              "    <tr style=\"text-align: right;\">\n",
              "      <th></th>\n",
              "      <th>User_ID</th>\n",
              "      <th>Product_ID</th>\n",
              "      <th>Gender</th>\n",
              "      <th>Age</th>\n",
              "      <th>Occupation</th>\n",
              "      <th>City_Category</th>\n",
              "      <th>Stay_In_Current_City_Years</th>\n",
              "      <th>Marital_Status</th>\n",
              "      <th>Product_Category_1</th>\n",
              "      <th>Product_Category_2</th>\n",
              "      <th>Product_Category_3</th>\n",
              "      <th>Purchase</th>\n",
              "    </tr>\n",
              "  </thead>\n",
              "  <tbody>\n",
              "    <tr>\n",
              "      <th>29</th>\n",
              "      <td>1000010</td>\n",
              "      <td>P00085942</td>\n",
              "      <td>F</td>\n",
              "      <td>36-45</td>\n",
              "      <td>1</td>\n",
              "      <td>B</td>\n",
              "      <td>4+</td>\n",
              "      <td>1</td>\n",
              "      <td>2.0</td>\n",
              "      <td>4</td>\n",
              "      <td>8</td>\n",
              "      <td>16352.0</td>\n",
              "    </tr>\n",
              "    <tr>\n",
              "      <th>30</th>\n",
              "      <td>1000010</td>\n",
              "      <td>P00118742</td>\n",
              "      <td>F</td>\n",
              "      <td>36-45</td>\n",
              "      <td>1</td>\n",
              "      <td>B</td>\n",
              "      <td>4+</td>\n",
              "      <td>1</td>\n",
              "      <td>5.0</td>\n",
              "      <td>11</td>\n",
              "      <td>0</td>\n",
              "      <td>8886.0</td>\n",
              "    </tr>\n",
              "    <tr>\n",
              "      <th>31</th>\n",
              "      <td>1000010</td>\n",
              "      <td>P00297942</td>\n",
              "      <td>F</td>\n",
              "      <td>36-45</td>\n",
              "      <td>1</td>\n",
              "      <td>B</td>\n",
              "      <td>4+</td>\n",
              "      <td>1</td>\n",
              "      <td>8.0</td>\n",
              "      <td>0</td>\n",
              "      <td>0</td>\n",
              "      <td>5875.0</td>\n",
              "    </tr>\n",
              "    <tr>\n",
              "      <th>32</th>\n",
              "      <td>1000010</td>\n",
              "      <td>P00266842</td>\n",
              "      <td>F</td>\n",
              "      <td>36-45</td>\n",
              "      <td>1</td>\n",
              "      <td>B</td>\n",
              "      <td>4+</td>\n",
              "      <td>1</td>\n",
              "      <td>5.0</td>\n",
              "      <td>0</td>\n",
              "      <td>0</td>\n",
              "      <td>8854.0</td>\n",
              "    </tr>\n",
              "    <tr>\n",
              "      <th>33</th>\n",
              "      <td>1000010</td>\n",
              "      <td>P00058342</td>\n",
              "      <td>F</td>\n",
              "      <td>36-45</td>\n",
              "      <td>1</td>\n",
              "      <td>B</td>\n",
              "      <td>4+</td>\n",
              "      <td>1</td>\n",
              "      <td>3.0</td>\n",
              "      <td>4</td>\n",
              "      <td>0</td>\n",
              "      <td>10946.0</td>\n",
              "    </tr>\n",
              "    <tr>\n",
              "      <th>...</th>\n",
              "      <td>...</td>\n",
              "      <td>...</td>\n",
              "      <td>...</td>\n",
              "      <td>...</td>\n",
              "      <td>...</td>\n",
              "      <td>...</td>\n",
              "      <td>...</td>\n",
              "      <td>...</td>\n",
              "      <td>...</td>\n",
              "      <td>...</td>\n",
              "      <td>...</td>\n",
              "      <td>...</td>\n",
              "    </tr>\n",
              "    <tr>\n",
              "      <th>225821</th>\n",
              "      <td>1004793</td>\n",
              "      <td>P00144642</td>\n",
              "      <td>F</td>\n",
              "      <td>26-35</td>\n",
              "      <td>6</td>\n",
              "      <td>B</td>\n",
              "      <td>2</td>\n",
              "      <td>1</td>\n",
              "      <td>1.0</td>\n",
              "      <td>15</td>\n",
              "      <td>16</td>\n",
              "      <td>11962.0</td>\n",
              "    </tr>\n",
              "    <tr>\n",
              "      <th>225822</th>\n",
              "      <td>1004793</td>\n",
              "      <td>P00130642</td>\n",
              "      <td>F</td>\n",
              "      <td>26-35</td>\n",
              "      <td>6</td>\n",
              "      <td>B</td>\n",
              "      <td>2</td>\n",
              "      <td>1</td>\n",
              "      <td>11.0</td>\n",
              "      <td>16</td>\n",
              "      <td>0</td>\n",
              "      <td>3053.0</td>\n",
              "    </tr>\n",
              "    <tr>\n",
              "      <th>225823</th>\n",
              "      <td>1004793</td>\n",
              "      <td>P00262242</td>\n",
              "      <td>F</td>\n",
              "      <td>26-35</td>\n",
              "      <td>6</td>\n",
              "      <td>B</td>\n",
              "      <td>2</td>\n",
              "      <td>1</td>\n",
              "      <td>1.0</td>\n",
              "      <td>11</td>\n",
              "      <td>16</td>\n",
              "      <td>4298.0</td>\n",
              "    </tr>\n",
              "    <tr>\n",
              "      <th>225852</th>\n",
              "      <td>1004797</td>\n",
              "      <td>P00112142</td>\n",
              "      <td>F</td>\n",
              "      <td>36-45</td>\n",
              "      <td>17</td>\n",
              "      <td>C</td>\n",
              "      <td>4+</td>\n",
              "      <td>1</td>\n",
              "      <td>1.0</td>\n",
              "      <td>2</td>\n",
              "      <td>14</td>\n",
              "      <td>15805.0</td>\n",
              "    </tr>\n",
              "    <tr>\n",
              "      <th>225853</th>\n",
              "      <td>1004797</td>\n",
              "      <td>P00137242</td>\n",
              "      <td>F</td>\n",
              "      <td>36-45</td>\n",
              "      <td>17</td>\n",
              "      <td>C</td>\n",
              "      <td>4+</td>\n",
              "      <td>1</td>\n",
              "      <td>5.0</td>\n",
              "      <td>0</td>\n",
              "      <td>0</td>\n",
              "      <td>8829.0</td>\n",
              "    </tr>\n",
              "  </tbody>\n",
              "</table>\n",
              "<p>20475 rows × 12 columns</p>\n",
              "</div>"
            ],
            "text/plain": [
              "        User_ID Product_ID  ... Product_Category_3 Purchase\n",
              "29      1000010  P00085942  ...                  8  16352.0\n",
              "30      1000010  P00118742  ...                  0   8886.0\n",
              "31      1000010  P00297942  ...                  0   5875.0\n",
              "32      1000010  P00266842  ...                  0   8854.0\n",
              "33      1000010  P00058342  ...                  0  10946.0\n",
              "...         ...        ...  ...                ...      ...\n",
              "225821  1004793  P00144642  ...                 16  11962.0\n",
              "225822  1004793  P00130642  ...                  0   3053.0\n",
              "225823  1004793  P00262242  ...                 16   4298.0\n",
              "225852  1004797  P00112142  ...                 14  15805.0\n",
              "225853  1004797  P00137242  ...                  0   8829.0\n",
              "\n",
              "[20475 rows x 12 columns]"
            ]
          },
          "metadata": {
            "tags": []
          },
          "execution_count": 39
        }
      ]
    },
    {
      "cell_type": "markdown",
      "metadata": {
        "id": "fjfqcFmkb8ZV",
        "colab_type": "text"
      },
      "source": [
        "# Creating subset of dataframe for UnMarried Male with Age > 25"
      ]
    },
    {
      "cell_type": "code",
      "metadata": {
        "id": "INo-2IjvbwRu",
        "colab_type": "code",
        "colab": {
          "base_uri": "https://localhost:8080/",
          "height": 402
        },
        "outputId": "651ce9f9-080f-4ea8-dd75-64a8ba1683b0"
      },
      "source": [
        "d4 = df[(df.Gender=='M')&(df.Age>'25')&(df.Marital_Status == 0)]\n",
        "d4"
      ],
      "execution_count": 40,
      "outputs": [
        {
          "output_type": "execute_result",
          "data": {
            "text/html": [
              "<div>\n",
              "<style scoped>\n",
              "    .dataframe tbody tr th:only-of-type {\n",
              "        vertical-align: middle;\n",
              "    }\n",
              "\n",
              "    .dataframe tbody tr th {\n",
              "        vertical-align: top;\n",
              "    }\n",
              "\n",
              "    .dataframe thead th {\n",
              "        text-align: right;\n",
              "    }\n",
              "</style>\n",
              "<table border=\"1\" class=\"dataframe\">\n",
              "  <thead>\n",
              "    <tr style=\"text-align: right;\">\n",
              "      <th></th>\n",
              "      <th>User_ID</th>\n",
              "      <th>Product_ID</th>\n",
              "      <th>Gender</th>\n",
              "      <th>Age</th>\n",
              "      <th>Occupation</th>\n",
              "      <th>City_Category</th>\n",
              "      <th>Stay_In_Current_City_Years</th>\n",
              "      <th>Marital_Status</th>\n",
              "      <th>Product_Category_1</th>\n",
              "      <th>Product_Category_2</th>\n",
              "      <th>Product_Category_3</th>\n",
              "      <th>Purchase</th>\n",
              "    </tr>\n",
              "  </thead>\n",
              "  <tbody>\n",
              "    <tr>\n",
              "      <th>4</th>\n",
              "      <td>1000002</td>\n",
              "      <td>P00285442</td>\n",
              "      <td>M</td>\n",
              "      <td>55+</td>\n",
              "      <td>16</td>\n",
              "      <td>C</td>\n",
              "      <td>4+</td>\n",
              "      <td>0</td>\n",
              "      <td>8.0</td>\n",
              "      <td>0</td>\n",
              "      <td>0</td>\n",
              "      <td>7969.0</td>\n",
              "    </tr>\n",
              "    <tr>\n",
              "      <th>5</th>\n",
              "      <td>1000003</td>\n",
              "      <td>P00193542</td>\n",
              "      <td>M</td>\n",
              "      <td>26-35</td>\n",
              "      <td>15</td>\n",
              "      <td>A</td>\n",
              "      <td>3</td>\n",
              "      <td>0</td>\n",
              "      <td>1.0</td>\n",
              "      <td>2</td>\n",
              "      <td>0</td>\n",
              "      <td>15227.0</td>\n",
              "    </tr>\n",
              "    <tr>\n",
              "      <th>25</th>\n",
              "      <td>1000009</td>\n",
              "      <td>P00135742</td>\n",
              "      <td>M</td>\n",
              "      <td>26-35</td>\n",
              "      <td>17</td>\n",
              "      <td>C</td>\n",
              "      <td>0</td>\n",
              "      <td>0</td>\n",
              "      <td>6.0</td>\n",
              "      <td>8</td>\n",
              "      <td>0</td>\n",
              "      <td>16662.0</td>\n",
              "    </tr>\n",
              "    <tr>\n",
              "      <th>26</th>\n",
              "      <td>1000009</td>\n",
              "      <td>P00039942</td>\n",
              "      <td>M</td>\n",
              "      <td>26-35</td>\n",
              "      <td>17</td>\n",
              "      <td>C</td>\n",
              "      <td>0</td>\n",
              "      <td>0</td>\n",
              "      <td>8.0</td>\n",
              "      <td>0</td>\n",
              "      <td>0</td>\n",
              "      <td>5887.0</td>\n",
              "    </tr>\n",
              "    <tr>\n",
              "      <th>27</th>\n",
              "      <td>1000009</td>\n",
              "      <td>P00161442</td>\n",
              "      <td>M</td>\n",
              "      <td>26-35</td>\n",
              "      <td>17</td>\n",
              "      <td>C</td>\n",
              "      <td>0</td>\n",
              "      <td>0</td>\n",
              "      <td>5.0</td>\n",
              "      <td>14</td>\n",
              "      <td>0</td>\n",
              "      <td>6973.0</td>\n",
              "    </tr>\n",
              "    <tr>\n",
              "      <th>...</th>\n",
              "      <td>...</td>\n",
              "      <td>...</td>\n",
              "      <td>...</td>\n",
              "      <td>...</td>\n",
              "      <td>...</td>\n",
              "      <td>...</td>\n",
              "      <td>...</td>\n",
              "      <td>...</td>\n",
              "      <td>...</td>\n",
              "      <td>...</td>\n",
              "      <td>...</td>\n",
              "      <td>...</td>\n",
              "    </tr>\n",
              "    <tr>\n",
              "      <th>225855</th>\n",
              "      <td>1004798</td>\n",
              "      <td>P00073842</td>\n",
              "      <td>M</td>\n",
              "      <td>26-35</td>\n",
              "      <td>1</td>\n",
              "      <td>C</td>\n",
              "      <td>4+</td>\n",
              "      <td>0</td>\n",
              "      <td>1.0</td>\n",
              "      <td>15</td>\n",
              "      <td>17</td>\n",
              "      <td>11401.0</td>\n",
              "    </tr>\n",
              "    <tr>\n",
              "      <th>225856</th>\n",
              "      <td>1004798</td>\n",
              "      <td>P00122542</td>\n",
              "      <td>M</td>\n",
              "      <td>26-35</td>\n",
              "      <td>1</td>\n",
              "      <td>C</td>\n",
              "      <td>4+</td>\n",
              "      <td>0</td>\n",
              "      <td>11.0</td>\n",
              "      <td>0</td>\n",
              "      <td>0</td>\n",
              "      <td>7629.0</td>\n",
              "    </tr>\n",
              "    <tr>\n",
              "      <th>225857</th>\n",
              "      <td>1004798</td>\n",
              "      <td>P00041342</td>\n",
              "      <td>M</td>\n",
              "      <td>26-35</td>\n",
              "      <td>1</td>\n",
              "      <td>C</td>\n",
              "      <td>4+</td>\n",
              "      <td>0</td>\n",
              "      <td>11.0</td>\n",
              "      <td>15</td>\n",
              "      <td>16</td>\n",
              "      <td>6105.0</td>\n",
              "    </tr>\n",
              "    <tr>\n",
              "      <th>225858</th>\n",
              "      <td>1004798</td>\n",
              "      <td>P00217742</td>\n",
              "      <td>M</td>\n",
              "      <td>26-35</td>\n",
              "      <td>1</td>\n",
              "      <td>C</td>\n",
              "      <td>4+</td>\n",
              "      <td>0</td>\n",
              "      <td>5.0</td>\n",
              "      <td>14</td>\n",
              "      <td>0</td>\n",
              "      <td>1898.0</td>\n",
              "    </tr>\n",
              "    <tr>\n",
              "      <th>225869</th>\n",
              "      <td>1004801</td>\n",
              "      <td>P00177542</td>\n",
              "      <td>M</td>\n",
              "      <td>26-35</td>\n",
              "      <td>4</td>\n",
              "      <td>C</td>\n",
              "      <td>3</td>\n",
              "      <td>0</td>\n",
              "      <td>NaN</td>\n",
              "      <td>0</td>\n",
              "      <td>0</td>\n",
              "      <td>NaN</td>\n",
              "    </tr>\n",
              "  </tbody>\n",
              "</table>\n",
              "<p>72404 rows × 12 columns</p>\n",
              "</div>"
            ],
            "text/plain": [
              "        User_ID Product_ID  ... Product_Category_3 Purchase\n",
              "4       1000002  P00285442  ...                  0   7969.0\n",
              "5       1000003  P00193542  ...                  0  15227.0\n",
              "25      1000009  P00135742  ...                  0  16662.0\n",
              "26      1000009  P00039942  ...                  0   5887.0\n",
              "27      1000009  P00161442  ...                  0   6973.0\n",
              "...         ...        ...  ...                ...      ...\n",
              "225855  1004798  P00073842  ...                 17  11401.0\n",
              "225856  1004798  P00122542  ...                  0   7629.0\n",
              "225857  1004798  P00041342  ...                 16   6105.0\n",
              "225858  1004798  P00217742  ...                  0   1898.0\n",
              "225869  1004801  P00177542  ...                  0      NaN\n",
              "\n",
              "[72404 rows x 12 columns]"
            ]
          },
          "metadata": {
            "tags": []
          },
          "execution_count": 40
        }
      ]
    },
    {
      "cell_type": "markdown",
      "metadata": {
        "id": "Yoy0-KAcc3gB",
        "colab_type": "text"
      },
      "source": [
        "# Conclusion"
      ]
    },
    {
      "cell_type": "markdown",
      "metadata": {
        "id": "HLxJ0UZQd_JM",
        "colab_type": "text"
      },
      "source": [
        "1. The dataset shows the purchase value based on various parameters.\n",
        "2. The missing values have been rectified along with the conversion of proper data types.\n",
        "3. From age analysis, we can observe that people with age group of 51-55 has a highest purchase which is about 9534 units while age group of 0-17 has the least purchase.\n",
        "4. Unmarried Male have highest purchases then Married Male and Females.\n",
        "5. City_Category 'C' has the highest purchase amount and \"City_Category 'A'\" has the least purchase.\n",
        "6. Based on Occupation, Occupation type 9 has the least amount of purchases probably because their salaries are low. People with occupation type 12, 15, 17 have highest amount of purchases.\n",
        "7. Seperate dataframe has been created for Male and Female.\n"
      ]
    }
  ]
}