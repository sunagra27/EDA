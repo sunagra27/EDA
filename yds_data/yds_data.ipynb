{
  "nbformat": 4,
  "nbformat_minor": 0,
  "metadata": {
    "colab": {
      "name": "yds_data.ipynb",
      "provenance": []
    },
    "kernelspec": {
      "name": "python3",
      "display_name": "Python 3"
    }
  },
  "cells": [
    {
      "cell_type": "code",
      "metadata": {
        "id": "xoADe_thh1Mf",
        "colab_type": "code",
        "colab": {}
      },
      "source": [
        "import pandas as pd\n",
        "import numpy as np\n",
        "import matplotlib.pyplot as plt\n",
        "import seaborn as sns\n",
        "import warnings\n",
        "warnings.filterwarnings('ignore')"
      ],
      "execution_count": 82,
      "outputs": []
    },
    {
      "cell_type": "code",
      "metadata": {
        "id": "LTRCMs7ViIhy",
        "colab_type": "code",
        "colab": {}
      },
      "source": [
        "df = pd.read_csv('yds_data.csv', index_col = 0)"
      ],
      "execution_count": 83,
      "outputs": []
    },
    {
      "cell_type": "code",
      "metadata": {
        "id": "TGzhroAeiey-",
        "colab_type": "code",
        "colab": {
          "base_uri": "https://localhost:8080/",
          "height": 302
        },
        "outputId": "2c84f6df-2cba-47ee-a361-2ec20db10f83"
      },
      "source": [
        "df.head()"
      ],
      "execution_count": 84,
      "outputs": [
        {
          "output_type": "execute_result",
          "data": {
            "text/html": [
              "<div>\n",
              "<style scoped>\n",
              "    .dataframe tbody tr th:only-of-type {\n",
              "        vertical-align: middle;\n",
              "    }\n",
              "\n",
              "    .dataframe tbody tr th {\n",
              "        vertical-align: top;\n",
              "    }\n",
              "\n",
              "    .dataframe thead th {\n",
              "        text-align: right;\n",
              "    }\n",
              "</style>\n",
              "<table border=\"1\" class=\"dataframe\">\n",
              "  <thead>\n",
              "    <tr style=\"text-align: right;\">\n",
              "      <th></th>\n",
              "      <th>match_event_id</th>\n",
              "      <th>location_x</th>\n",
              "      <th>location_y</th>\n",
              "      <th>remaining_min</th>\n",
              "      <th>power_of_shot</th>\n",
              "      <th>knockout_match</th>\n",
              "      <th>game_season</th>\n",
              "      <th>remaining_sec</th>\n",
              "      <th>distance_of_shot</th>\n",
              "      <th>is_goal</th>\n",
              "      <th>area_of_shot</th>\n",
              "      <th>shot_basics</th>\n",
              "      <th>range_of_shot</th>\n",
              "      <th>team_name</th>\n",
              "      <th>date_of_game</th>\n",
              "      <th>home/away</th>\n",
              "      <th>shot_id_number</th>\n",
              "      <th>lat/lng</th>\n",
              "      <th>type_of_shot</th>\n",
              "      <th>type_of_combined_shot</th>\n",
              "      <th>match_id</th>\n",
              "      <th>team_id</th>\n",
              "      <th>remaining_min.1</th>\n",
              "      <th>power_of_shot.1</th>\n",
              "      <th>knockout_match.1</th>\n",
              "      <th>remaining_sec.1</th>\n",
              "      <th>distance_of_shot.1</th>\n",
              "    </tr>\n",
              "  </thead>\n",
              "  <tbody>\n",
              "    <tr>\n",
              "      <th>0</th>\n",
              "      <td>10.0</td>\n",
              "      <td>167.0</td>\n",
              "      <td>72.0</td>\n",
              "      <td>10.0</td>\n",
              "      <td>1.0</td>\n",
              "      <td>0.0</td>\n",
              "      <td>2000-01</td>\n",
              "      <td>27.0</td>\n",
              "      <td>38.0</td>\n",
              "      <td>NaN</td>\n",
              "      <td>Right Side(R)</td>\n",
              "      <td>Mid Range</td>\n",
              "      <td>16-24 ft.</td>\n",
              "      <td>Manchester United</td>\n",
              "      <td>2000-10-31</td>\n",
              "      <td>MANU @ POR</td>\n",
              "      <td>1.0</td>\n",
              "      <td>45.539131, -122.651648</td>\n",
              "      <td>shot - 30</td>\n",
              "      <td>NaN</td>\n",
              "      <td>20000012.0</td>\n",
              "      <td>1.610613e+09</td>\n",
              "      <td>10.00</td>\n",
              "      <td>1.0</td>\n",
              "      <td>50.608</td>\n",
              "      <td>54.2000</td>\n",
              "      <td>38.0</td>\n",
              "    </tr>\n",
              "    <tr>\n",
              "      <th>1</th>\n",
              "      <td>12.0</td>\n",
              "      <td>-157.0</td>\n",
              "      <td>0.0</td>\n",
              "      <td>10.0</td>\n",
              "      <td>1.0</td>\n",
              "      <td>0.0</td>\n",
              "      <td>2000-01</td>\n",
              "      <td>22.0</td>\n",
              "      <td>35.0</td>\n",
              "      <td>0.0</td>\n",
              "      <td>Left Side(L)</td>\n",
              "      <td>Mid Range</td>\n",
              "      <td>8-16 ft.</td>\n",
              "      <td>Manchester United</td>\n",
              "      <td>2000-10-31</td>\n",
              "      <td>MANU @ POR</td>\n",
              "      <td>2.0</td>\n",
              "      <td>45.539131, -122.651648</td>\n",
              "      <td>shot - 45</td>\n",
              "      <td>NaN</td>\n",
              "      <td>20000012.0</td>\n",
              "      <td>1.610613e+09</td>\n",
              "      <td>10.00</td>\n",
              "      <td>1.0</td>\n",
              "      <td>28.800</td>\n",
              "      <td>22.0000</td>\n",
              "      <td>35.0</td>\n",
              "    </tr>\n",
              "    <tr>\n",
              "      <th>2</th>\n",
              "      <td>35.0</td>\n",
              "      <td>-101.0</td>\n",
              "      <td>135.0</td>\n",
              "      <td>7.0</td>\n",
              "      <td>1.0</td>\n",
              "      <td>0.0</td>\n",
              "      <td>2000-01</td>\n",
              "      <td>45.0</td>\n",
              "      <td>36.0</td>\n",
              "      <td>1.0</td>\n",
              "      <td>Left Side Center(LC)</td>\n",
              "      <td>Mid Range</td>\n",
              "      <td>16-24 ft.</td>\n",
              "      <td>Manchester United</td>\n",
              "      <td>2000-10-31</td>\n",
              "      <td>NaN</td>\n",
              "      <td>3.0</td>\n",
              "      <td>45.539131, -122.651648</td>\n",
              "      <td>shot - 25</td>\n",
              "      <td>NaN</td>\n",
              "      <td>20000012.0</td>\n",
              "      <td>1.610613e+09</td>\n",
              "      <td>92.64</td>\n",
              "      <td>1.0</td>\n",
              "      <td>0.000</td>\n",
              "      <td>63.7216</td>\n",
              "      <td>54.4</td>\n",
              "    </tr>\n",
              "    <tr>\n",
              "      <th>3</th>\n",
              "      <td>43.0</td>\n",
              "      <td>138.0</td>\n",
              "      <td>175.0</td>\n",
              "      <td>6.0</td>\n",
              "      <td>1.0</td>\n",
              "      <td>0.0</td>\n",
              "      <td>2000-01</td>\n",
              "      <td>52.0</td>\n",
              "      <td>42.0</td>\n",
              "      <td>0.0</td>\n",
              "      <td>Right Side Center(RC)</td>\n",
              "      <td>Mid Range</td>\n",
              "      <td>16-24 ft.</td>\n",
              "      <td>Manchester United</td>\n",
              "      <td>2000-10-31</td>\n",
              "      <td>MANU @ POR</td>\n",
              "      <td>4.0</td>\n",
              "      <td>45.539131, -122.651648</td>\n",
              "      <td>NaN</td>\n",
              "      <td>shot - 3</td>\n",
              "      <td>20000012.0</td>\n",
              "      <td>1.610613e+09</td>\n",
              "      <td>NaN</td>\n",
              "      <td>1.0</td>\n",
              "      <td>122.608</td>\n",
              "      <td>52.0000</td>\n",
              "      <td>42.0</td>\n",
              "    </tr>\n",
              "    <tr>\n",
              "      <th>4</th>\n",
              "      <td>155.0</td>\n",
              "      <td>0.0</td>\n",
              "      <td>0.0</td>\n",
              "      <td>NaN</td>\n",
              "      <td>2.0</td>\n",
              "      <td>0.0</td>\n",
              "      <td>2000-01</td>\n",
              "      <td>19.0</td>\n",
              "      <td>20.0</td>\n",
              "      <td>1.0</td>\n",
              "      <td>Center(C)</td>\n",
              "      <td>Goal Area</td>\n",
              "      <td>Less Than 8 ft.</td>\n",
              "      <td>NaN</td>\n",
              "      <td>2000-10-31</td>\n",
              "      <td>MANU @ POR</td>\n",
              "      <td>5.0</td>\n",
              "      <td>45.539131, -122.651648</td>\n",
              "      <td>NaN</td>\n",
              "      <td>shot - 1</td>\n",
              "      <td>20000012.0</td>\n",
              "      <td>1.610613e+09</td>\n",
              "      <td>42.64</td>\n",
              "      <td>2.0</td>\n",
              "      <td>0.000</td>\n",
              "      <td>19.0000</td>\n",
              "      <td>20.0</td>\n",
              "    </tr>\n",
              "  </tbody>\n",
              "</table>\n",
              "</div>"
            ],
            "text/plain": [
              "   match_event_id  location_x  ...  remaining_sec.1  distance_of_shot.1\n",
              "0            10.0       167.0  ...          54.2000                38.0\n",
              "1            12.0      -157.0  ...          22.0000                35.0\n",
              "2            35.0      -101.0  ...          63.7216                54.4\n",
              "3            43.0       138.0  ...          52.0000                42.0\n",
              "4           155.0         0.0  ...          19.0000                20.0\n",
              "\n",
              "[5 rows x 27 columns]"
            ]
          },
          "metadata": {
            "tags": []
          },
          "execution_count": 84
        }
      ]
    },
    {
      "cell_type": "code",
      "metadata": {
        "id": "wt84kbAAif6g",
        "colab_type": "code",
        "colab": {
          "base_uri": "https://localhost:8080/",
          "height": 34
        },
        "outputId": "bd5bd315-274a-4cb4-ae43-9fa1c8117ca7"
      },
      "source": [
        "df.shape"
      ],
      "execution_count": 85,
      "outputs": [
        {
          "output_type": "execute_result",
          "data": {
            "text/plain": [
              "(10066, 27)"
            ]
          },
          "metadata": {
            "tags": []
          },
          "execution_count": 85
        }
      ]
    },
    {
      "cell_type": "code",
      "metadata": {
        "id": "Ynm6dgdupCJL",
        "colab_type": "code",
        "colab": {
          "base_uri": "https://localhost:8080/",
          "height": 478
        },
        "outputId": "580dfceb-73e5-45a8-c45f-6af00c9c3bb2"
      },
      "source": [
        "for col in df.columns:\n",
        "  print(str(col) + \" \" + \" \" + str(df[col].nunique()))"
      ],
      "execution_count": 86,
      "outputs": [
        {
          "output_type": "stream",
          "text": [
            "match_event_id  570\n",
            "location_x  390\n",
            "location_y  320\n",
            "remaining_min  12\n",
            "power_of_shot  6\n",
            "knockout_match  1\n",
            "game_season  7\n",
            "remaining_sec  60\n",
            "distance_of_shot  63\n",
            "is_goal  2\n",
            "area_of_shot  6\n",
            "shot_basics  7\n",
            "range_of_shot  5\n",
            "team_name  1\n",
            "date_of_game  460\n",
            "home/away  68\n",
            "shot_id_number  9531\n",
            "lat/lng  35\n",
            "type_of_shot  57\n",
            "type_of_combined_shot  5\n",
            "match_id  460\n",
            "team_id  1\n",
            "remaining_min.1  249\n",
            "power_of_shot.1  175\n",
            "knockout_match.1  344\n",
            "remaining_sec.1  314\n",
            "distance_of_shot.1  254\n"
          ],
          "name": "stdout"
        }
      ]
    },
    {
      "cell_type": "markdown",
      "metadata": {
        "id": "ld7wfB7Ro5VN",
        "colab_type": "text"
      },
      "source": [
        "From the first look, we can see that lots of variables can be removed since it contains only one unique value of un-necessary variables."
      ]
    },
    {
      "cell_type": "code",
      "metadata": {
        "id": "XwIKKLT1o3nD",
        "colab_type": "code",
        "colab": {}
      },
      "source": [
        "col_drop = ['team_name', 'team_id', 'knockout_match.1', 'power_of_shot.1', 'remaining_min.1', 'remaining_sec.1', 'distance_of_shot.1', 'match_event_id']\n",
        "df.drop(col_drop, axis = 1, inplace = True)"
      ],
      "execution_count": 87,
      "outputs": []
    },
    {
      "cell_type": "code",
      "metadata": {
        "id": "PCvlWI-Yqpww",
        "colab_type": "code",
        "colab": {
          "base_uri": "https://localhost:8080/",
          "height": 302
        },
        "outputId": "d78c9841-8a2c-4a68-ff11-d6bf6b343350"
      },
      "source": [
        "df.head()"
      ],
      "execution_count": 88,
      "outputs": [
        {
          "output_type": "execute_result",
          "data": {
            "text/html": [
              "<div>\n",
              "<style scoped>\n",
              "    .dataframe tbody tr th:only-of-type {\n",
              "        vertical-align: middle;\n",
              "    }\n",
              "\n",
              "    .dataframe tbody tr th {\n",
              "        vertical-align: top;\n",
              "    }\n",
              "\n",
              "    .dataframe thead th {\n",
              "        text-align: right;\n",
              "    }\n",
              "</style>\n",
              "<table border=\"1\" class=\"dataframe\">\n",
              "  <thead>\n",
              "    <tr style=\"text-align: right;\">\n",
              "      <th></th>\n",
              "      <th>location_x</th>\n",
              "      <th>location_y</th>\n",
              "      <th>remaining_min</th>\n",
              "      <th>power_of_shot</th>\n",
              "      <th>knockout_match</th>\n",
              "      <th>game_season</th>\n",
              "      <th>remaining_sec</th>\n",
              "      <th>distance_of_shot</th>\n",
              "      <th>is_goal</th>\n",
              "      <th>area_of_shot</th>\n",
              "      <th>shot_basics</th>\n",
              "      <th>range_of_shot</th>\n",
              "      <th>date_of_game</th>\n",
              "      <th>home/away</th>\n",
              "      <th>shot_id_number</th>\n",
              "      <th>lat/lng</th>\n",
              "      <th>type_of_shot</th>\n",
              "      <th>type_of_combined_shot</th>\n",
              "      <th>match_id</th>\n",
              "    </tr>\n",
              "  </thead>\n",
              "  <tbody>\n",
              "    <tr>\n",
              "      <th>0</th>\n",
              "      <td>167.0</td>\n",
              "      <td>72.0</td>\n",
              "      <td>10.0</td>\n",
              "      <td>1.0</td>\n",
              "      <td>0.0</td>\n",
              "      <td>2000-01</td>\n",
              "      <td>27.0</td>\n",
              "      <td>38.0</td>\n",
              "      <td>NaN</td>\n",
              "      <td>Right Side(R)</td>\n",
              "      <td>Mid Range</td>\n",
              "      <td>16-24 ft.</td>\n",
              "      <td>2000-10-31</td>\n",
              "      <td>MANU @ POR</td>\n",
              "      <td>1.0</td>\n",
              "      <td>45.539131, -122.651648</td>\n",
              "      <td>shot - 30</td>\n",
              "      <td>NaN</td>\n",
              "      <td>20000012.0</td>\n",
              "    </tr>\n",
              "    <tr>\n",
              "      <th>1</th>\n",
              "      <td>-157.0</td>\n",
              "      <td>0.0</td>\n",
              "      <td>10.0</td>\n",
              "      <td>1.0</td>\n",
              "      <td>0.0</td>\n",
              "      <td>2000-01</td>\n",
              "      <td>22.0</td>\n",
              "      <td>35.0</td>\n",
              "      <td>0.0</td>\n",
              "      <td>Left Side(L)</td>\n",
              "      <td>Mid Range</td>\n",
              "      <td>8-16 ft.</td>\n",
              "      <td>2000-10-31</td>\n",
              "      <td>MANU @ POR</td>\n",
              "      <td>2.0</td>\n",
              "      <td>45.539131, -122.651648</td>\n",
              "      <td>shot - 45</td>\n",
              "      <td>NaN</td>\n",
              "      <td>20000012.0</td>\n",
              "    </tr>\n",
              "    <tr>\n",
              "      <th>2</th>\n",
              "      <td>-101.0</td>\n",
              "      <td>135.0</td>\n",
              "      <td>7.0</td>\n",
              "      <td>1.0</td>\n",
              "      <td>0.0</td>\n",
              "      <td>2000-01</td>\n",
              "      <td>45.0</td>\n",
              "      <td>36.0</td>\n",
              "      <td>1.0</td>\n",
              "      <td>Left Side Center(LC)</td>\n",
              "      <td>Mid Range</td>\n",
              "      <td>16-24 ft.</td>\n",
              "      <td>2000-10-31</td>\n",
              "      <td>NaN</td>\n",
              "      <td>3.0</td>\n",
              "      <td>45.539131, -122.651648</td>\n",
              "      <td>shot - 25</td>\n",
              "      <td>NaN</td>\n",
              "      <td>20000012.0</td>\n",
              "    </tr>\n",
              "    <tr>\n",
              "      <th>3</th>\n",
              "      <td>138.0</td>\n",
              "      <td>175.0</td>\n",
              "      <td>6.0</td>\n",
              "      <td>1.0</td>\n",
              "      <td>0.0</td>\n",
              "      <td>2000-01</td>\n",
              "      <td>52.0</td>\n",
              "      <td>42.0</td>\n",
              "      <td>0.0</td>\n",
              "      <td>Right Side Center(RC)</td>\n",
              "      <td>Mid Range</td>\n",
              "      <td>16-24 ft.</td>\n",
              "      <td>2000-10-31</td>\n",
              "      <td>MANU @ POR</td>\n",
              "      <td>4.0</td>\n",
              "      <td>45.539131, -122.651648</td>\n",
              "      <td>NaN</td>\n",
              "      <td>shot - 3</td>\n",
              "      <td>20000012.0</td>\n",
              "    </tr>\n",
              "    <tr>\n",
              "      <th>4</th>\n",
              "      <td>0.0</td>\n",
              "      <td>0.0</td>\n",
              "      <td>NaN</td>\n",
              "      <td>2.0</td>\n",
              "      <td>0.0</td>\n",
              "      <td>2000-01</td>\n",
              "      <td>19.0</td>\n",
              "      <td>20.0</td>\n",
              "      <td>1.0</td>\n",
              "      <td>Center(C)</td>\n",
              "      <td>Goal Area</td>\n",
              "      <td>Less Than 8 ft.</td>\n",
              "      <td>2000-10-31</td>\n",
              "      <td>MANU @ POR</td>\n",
              "      <td>5.0</td>\n",
              "      <td>45.539131, -122.651648</td>\n",
              "      <td>NaN</td>\n",
              "      <td>shot - 1</td>\n",
              "      <td>20000012.0</td>\n",
              "    </tr>\n",
              "  </tbody>\n",
              "</table>\n",
              "</div>"
            ],
            "text/plain": [
              "   location_x  location_y  ...  type_of_combined_shot    match_id\n",
              "0       167.0        72.0  ...                    NaN  20000012.0\n",
              "1      -157.0         0.0  ...                    NaN  20000012.0\n",
              "2      -101.0       135.0  ...                    NaN  20000012.0\n",
              "3       138.0       175.0  ...               shot - 3  20000012.0\n",
              "4         0.0         0.0  ...               shot - 1  20000012.0\n",
              "\n",
              "[5 rows x 19 columns]"
            ]
          },
          "metadata": {
            "tags": []
          },
          "execution_count": 88
        }
      ]
    },
    {
      "cell_type": "markdown",
      "metadata": {
        "id": "uuUeueKM0uks",
        "colab_type": "text"
      },
      "source": [
        "Some of the extra columns is also removed which does not fit for the data.\n"
      ]
    },
    {
      "cell_type": "code",
      "metadata": {
        "id": "Zv3-1V1W0uXz",
        "colab_type": "code",
        "colab": {}
      },
      "source": [
        "col_drop2 = ['area_of_shot', 'date_of_game', 'game_season', 'shot_basics', 'match_id', 'shot_id_number']\n",
        "df.drop(col_drop2, axis = 1, inplace=True)"
      ],
      "execution_count": 89,
      "outputs": []
    },
    {
      "cell_type": "code",
      "metadata": {
        "id": "ItddeMmCqqyK",
        "colab_type": "code",
        "colab": {
          "base_uri": "https://localhost:8080/",
          "height": 256
        },
        "outputId": "ae58206b-7586-46c0-bd7d-594010823086"
      },
      "source": [
        "df.isnull().sum()"
      ],
      "execution_count": 90,
      "outputs": [
        {
          "output_type": "execute_result",
          "data": {
            "text/plain": [
              "location_x                452\n",
              "location_y                481\n",
              "remaining_min             488\n",
              "power_of_shot             475\n",
              "knockout_match            515\n",
              "remaining_sec             540\n",
              "distance_of_shot          511\n",
              "is_goal                  2066\n",
              "range_of_shot             533\n",
              "home/away                 507\n",
              "lat/lng                   512\n",
              "type_of_shot             5043\n",
              "type_of_combined_shot    5024\n",
              "dtype: int64"
            ]
          },
          "metadata": {
            "tags": []
          },
          "execution_count": 90
        }
      ]
    },
    {
      "cell_type": "code",
      "metadata": {
        "id": "WWy0zkKmq6mS",
        "colab_type": "code",
        "colab": {
          "base_uri": "https://localhost:8080/",
          "height": 256
        },
        "outputId": "a9cb2cc4-09df-4d57-ee83-2b65f559d52d"
      },
      "source": [
        "df.dtypes"
      ],
      "execution_count": 91,
      "outputs": [
        {
          "output_type": "execute_result",
          "data": {
            "text/plain": [
              "location_x               float64\n",
              "location_y               float64\n",
              "remaining_min            float64\n",
              "power_of_shot            float64\n",
              "knockout_match           float64\n",
              "remaining_sec            float64\n",
              "distance_of_shot         float64\n",
              "is_goal                  float64\n",
              "range_of_shot             object\n",
              "home/away                 object\n",
              "lat/lng                   object\n",
              "type_of_shot              object\n",
              "type_of_combined_shot     object\n",
              "dtype: object"
            ]
          },
          "metadata": {
            "tags": []
          },
          "execution_count": 91
        }
      ]
    },
    {
      "cell_type": "code",
      "metadata": {
        "id": "etutmHegyldd",
        "colab_type": "code",
        "colab": {
          "base_uri": "https://localhost:8080/",
          "height": 119
        },
        "outputId": "948e3539-85b6-442e-d18f-6bebe0b15030"
      },
      "source": [
        "df['range_of_shot'].value_counts()"
      ],
      "execution_count": 92,
      "outputs": [
        {
          "output_type": "execute_result",
          "data": {
            "text/plain": [
              "Less Than 8 ft.    3049\n",
              "16-24 ft.          2781\n",
              "8-16 ft.           1954\n",
              "24+ ft.            1715\n",
              "Back Court Shot      34\n",
              "Name: range_of_shot, dtype: int64"
            ]
          },
          "metadata": {
            "tags": []
          },
          "execution_count": 92
        }
      ]
    },
    {
      "cell_type": "markdown",
      "metadata": {
        "id": "VH24-UJm40iq",
        "colab_type": "text"
      },
      "source": [
        "# Taking care of null values"
      ]
    },
    {
      "cell_type": "markdown",
      "metadata": {
        "id": "WXABS8sx5_pC",
        "colab_type": "text"
      },
      "source": [
        "Replacing all the null values in float64 datatypes by mean."
      ]
    },
    {
      "cell_type": "code",
      "metadata": {
        "id": "18oYCy-z1zwV",
        "colab_type": "code",
        "colab": {}
      },
      "source": [
        "columns = ['location_x', 'location_y', 'remaining_min', 'power_of_shot', 'knockout_match', 'remaining_sec', 'distance_of_shot']\n",
        "\n",
        "for col in columns:\n",
        "  df[col].fillna(df[col].mean(), inplace = True)"
      ],
      "execution_count": 93,
      "outputs": []
    },
    {
      "cell_type": "code",
      "metadata": {
        "id": "AWD-S4rT6LOh",
        "colab_type": "code",
        "colab": {
          "base_uri": "https://localhost:8080/",
          "height": 256
        },
        "outputId": "974a73a9-9150-40a6-a698-784e2cedcbc7"
      },
      "source": [
        "df.dtypes"
      ],
      "execution_count": 94,
      "outputs": [
        {
          "output_type": "execute_result",
          "data": {
            "text/plain": [
              "location_x               float64\n",
              "location_y               float64\n",
              "remaining_min            float64\n",
              "power_of_shot            float64\n",
              "knockout_match           float64\n",
              "remaining_sec            float64\n",
              "distance_of_shot         float64\n",
              "is_goal                  float64\n",
              "range_of_shot             object\n",
              "home/away                 object\n",
              "lat/lng                   object\n",
              "type_of_shot              object\n",
              "type_of_combined_shot     object\n",
              "dtype: object"
            ]
          },
          "metadata": {
            "tags": []
          },
          "execution_count": 94
        }
      ]
    },
    {
      "cell_type": "code",
      "metadata": {
        "id": "rGtXa5nC6SRk",
        "colab_type": "code",
        "colab": {
          "base_uri": "https://localhost:8080/",
          "height": 35
        },
        "outputId": "c43b43f2-5fe7-4401-900f-3ad714e8299e"
      },
      "source": [
        "df['lat/lng'].value_counts().index[0]"
      ],
      "execution_count": 95,
      "outputs": [
        {
          "output_type": "execute_result",
          "data": {
            "application/vnd.google.colaboratory.intrinsic+json": {
              "type": "string"
            },
            "text/plain": [
              "'42.982923, -71.446094'"
            ]
          },
          "metadata": {
            "tags": []
          },
          "execution_count": 95
        }
      ]
    },
    {
      "cell_type": "markdown",
      "metadata": {
        "id": "nK8O4GCr83pX",
        "colab_type": "text"
      },
      "source": [
        "Latitude and Longitude are two separate entities. It has to be splitted accordingly."
      ]
    },
    {
      "cell_type": "code",
      "metadata": {
        "id": "fWr5iW7d8yJG",
        "colab_type": "code",
        "colab": {}
      },
      "source": [
        "df[['Lat','Long']] = df['lat/lng'].astype(str).str.split(',', expand=True).astype('float64')\n",
        "df.drop('lat/lng', axis = 1, inplace=True)"
      ],
      "execution_count": 96,
      "outputs": []
    },
    {
      "cell_type": "code",
      "metadata": {
        "id": "vx1ElG9695wZ",
        "colab_type": "code",
        "colab": {
          "base_uri": "https://localhost:8080/",
          "height": 119
        },
        "outputId": "6970547c-f940-4888-9aea-1797f1333408"
      },
      "source": [
        "df['type_of_combined_shot'].value_counts()"
      ],
      "execution_count": 97,
      "outputs": [
        {
          "output_type": "execute_result",
          "data": {
            "text/plain": [
              "shot - 3    3783\n",
              "shot - 4     955\n",
              "shot - 1     252\n",
              "shot - 5      34\n",
              "shot - 2      18\n",
              "Name: type_of_combined_shot, dtype: int64"
            ]
          },
          "metadata": {
            "tags": []
          },
          "execution_count": 97
        }
      ]
    },
    {
      "cell_type": "markdown",
      "metadata": {
        "id": "-a9dCVcc-dSz",
        "colab_type": "text"
      },
      "source": [
        "Replacing 'type of combined shot' and 'type of shot' NaN varible to shot-NaN meaning no shot taken. "
      ]
    },
    {
      "cell_type": "code",
      "metadata": {
        "id": "dtz1fZy5-Kga",
        "colab_type": "code",
        "colab": {}
      },
      "source": [
        "columns = ['type_of_shot', 'type_of_combined_shot']\n",
        "\n",
        "for col in columns:\n",
        "  df[col].replace(np.NaN, \"shot-NaN\", inplace=True)"
      ],
      "execution_count": 98,
      "outputs": []
    },
    {
      "cell_type": "code",
      "metadata": {
        "id": "peI2_6X6-_mO",
        "colab_type": "code",
        "colab": {
          "base_uri": "https://localhost:8080/",
          "height": 285
        },
        "outputId": "d1d32741-53fa-442a-d25b-3188c765dad9"
      },
      "source": [
        "df.head()"
      ],
      "execution_count": 99,
      "outputs": [
        {
          "output_type": "execute_result",
          "data": {
            "text/html": [
              "<div>\n",
              "<style scoped>\n",
              "    .dataframe tbody tr th:only-of-type {\n",
              "        vertical-align: middle;\n",
              "    }\n",
              "\n",
              "    .dataframe tbody tr th {\n",
              "        vertical-align: top;\n",
              "    }\n",
              "\n",
              "    .dataframe thead th {\n",
              "        text-align: right;\n",
              "    }\n",
              "</style>\n",
              "<table border=\"1\" class=\"dataframe\">\n",
              "  <thead>\n",
              "    <tr style=\"text-align: right;\">\n",
              "      <th></th>\n",
              "      <th>location_x</th>\n",
              "      <th>location_y</th>\n",
              "      <th>remaining_min</th>\n",
              "      <th>power_of_shot</th>\n",
              "      <th>knockout_match</th>\n",
              "      <th>remaining_sec</th>\n",
              "      <th>distance_of_shot</th>\n",
              "      <th>is_goal</th>\n",
              "      <th>range_of_shot</th>\n",
              "      <th>home/away</th>\n",
              "      <th>type_of_shot</th>\n",
              "      <th>type_of_combined_shot</th>\n",
              "      <th>Lat</th>\n",
              "      <th>Long</th>\n",
              "    </tr>\n",
              "  </thead>\n",
              "  <tbody>\n",
              "    <tr>\n",
              "      <th>0</th>\n",
              "      <td>167.0</td>\n",
              "      <td>72.0</td>\n",
              "      <td>10.000000</td>\n",
              "      <td>1.0</td>\n",
              "      <td>0.0</td>\n",
              "      <td>27.0</td>\n",
              "      <td>38.0</td>\n",
              "      <td>NaN</td>\n",
              "      <td>16-24 ft.</td>\n",
              "      <td>MANU @ POR</td>\n",
              "      <td>shot - 30</td>\n",
              "      <td>shot-NaN</td>\n",
              "      <td>45.539131</td>\n",
              "      <td>-122.651648</td>\n",
              "    </tr>\n",
              "    <tr>\n",
              "      <th>1</th>\n",
              "      <td>-157.0</td>\n",
              "      <td>0.0</td>\n",
              "      <td>10.000000</td>\n",
              "      <td>1.0</td>\n",
              "      <td>0.0</td>\n",
              "      <td>22.0</td>\n",
              "      <td>35.0</td>\n",
              "      <td>0.0</td>\n",
              "      <td>8-16 ft.</td>\n",
              "      <td>MANU @ POR</td>\n",
              "      <td>shot - 45</td>\n",
              "      <td>shot-NaN</td>\n",
              "      <td>45.539131</td>\n",
              "      <td>-122.651648</td>\n",
              "    </tr>\n",
              "    <tr>\n",
              "      <th>2</th>\n",
              "      <td>-101.0</td>\n",
              "      <td>135.0</td>\n",
              "      <td>7.000000</td>\n",
              "      <td>1.0</td>\n",
              "      <td>0.0</td>\n",
              "      <td>45.0</td>\n",
              "      <td>36.0</td>\n",
              "      <td>1.0</td>\n",
              "      <td>16-24 ft.</td>\n",
              "      <td>NaN</td>\n",
              "      <td>shot - 25</td>\n",
              "      <td>shot-NaN</td>\n",
              "      <td>45.539131</td>\n",
              "      <td>-122.651648</td>\n",
              "    </tr>\n",
              "    <tr>\n",
              "      <th>3</th>\n",
              "      <td>138.0</td>\n",
              "      <td>175.0</td>\n",
              "      <td>6.000000</td>\n",
              "      <td>1.0</td>\n",
              "      <td>0.0</td>\n",
              "      <td>52.0</td>\n",
              "      <td>42.0</td>\n",
              "      <td>0.0</td>\n",
              "      <td>16-24 ft.</td>\n",
              "      <td>MANU @ POR</td>\n",
              "      <td>shot-NaN</td>\n",
              "      <td>shot - 3</td>\n",
              "      <td>45.539131</td>\n",
              "      <td>-122.651648</td>\n",
              "    </tr>\n",
              "    <tr>\n",
              "      <th>4</th>\n",
              "      <td>0.0</td>\n",
              "      <td>0.0</td>\n",
              "      <td>4.966277</td>\n",
              "      <td>2.0</td>\n",
              "      <td>0.0</td>\n",
              "      <td>19.0</td>\n",
              "      <td>20.0</td>\n",
              "      <td>1.0</td>\n",
              "      <td>Less Than 8 ft.</td>\n",
              "      <td>MANU @ POR</td>\n",
              "      <td>shot-NaN</td>\n",
              "      <td>shot - 1</td>\n",
              "      <td>45.539131</td>\n",
              "      <td>-122.651648</td>\n",
              "    </tr>\n",
              "  </tbody>\n",
              "</table>\n",
              "</div>"
            ],
            "text/plain": [
              "   location_x  location_y  ...        Lat        Long\n",
              "0       167.0        72.0  ...  45.539131 -122.651648\n",
              "1      -157.0         0.0  ...  45.539131 -122.651648\n",
              "2      -101.0       135.0  ...  45.539131 -122.651648\n",
              "3       138.0       175.0  ...  45.539131 -122.651648\n",
              "4         0.0         0.0  ...  45.539131 -122.651648\n",
              "\n",
              "[5 rows x 14 columns]"
            ]
          },
          "metadata": {
            "tags": []
          },
          "execution_count": 99
        }
      ]
    },
    {
      "cell_type": "code",
      "metadata": {
        "id": "Ul4OcGLK_AjB",
        "colab_type": "code",
        "colab": {
          "base_uri": "https://localhost:8080/",
          "height": 273
        },
        "outputId": "7c0a292c-e9ef-46b2-bf06-1ce5e8d672e5"
      },
      "source": [
        "df.isnull().sum()"
      ],
      "execution_count": 100,
      "outputs": [
        {
          "output_type": "execute_result",
          "data": {
            "text/plain": [
              "location_x                  0\n",
              "location_y                  0\n",
              "remaining_min               0\n",
              "power_of_shot               0\n",
              "knockout_match              0\n",
              "remaining_sec               0\n",
              "distance_of_shot            0\n",
              "is_goal                  2066\n",
              "range_of_shot             533\n",
              "home/away                 507\n",
              "type_of_shot                0\n",
              "type_of_combined_shot       0\n",
              "Lat                       512\n",
              "Long                      512\n",
              "dtype: int64"
            ]
          },
          "metadata": {
            "tags": []
          },
          "execution_count": 100
        }
      ]
    },
    {
      "cell_type": "markdown",
      "metadata": {
        "id": "4hbSyeBV_S_v",
        "colab_type": "text"
      },
      "source": [
        "Replacing lat and long by mean"
      ]
    },
    {
      "cell_type": "code",
      "metadata": {
        "id": "MeOCE1NJ_OmG",
        "colab_type": "code",
        "colab": {}
      },
      "source": [
        "columns = ['Lat', 'Long']\n",
        "\n",
        "for col in columns:\n",
        "  df[col].fillna(df[col].mean(), inplace = True)"
      ],
      "execution_count": 101,
      "outputs": []
    },
    {
      "cell_type": "code",
      "metadata": {
        "id": "H4UyTYPw_eaf",
        "colab_type": "code",
        "colab": {
          "base_uri": "https://localhost:8080/",
          "height": 119
        },
        "outputId": "bad3e47a-8d5a-4a4c-ea00-97b299312a72"
      },
      "source": [
        "df['range_of_shot'].value_counts()"
      ],
      "execution_count": 102,
      "outputs": [
        {
          "output_type": "execute_result",
          "data": {
            "text/plain": [
              "Less Than 8 ft.    3049\n",
              "16-24 ft.          2781\n",
              "8-16 ft.           1954\n",
              "24+ ft.            1715\n",
              "Back Court Shot      34\n",
              "Name: range_of_shot, dtype: int64"
            ]
          },
          "metadata": {
            "tags": []
          },
          "execution_count": 102
        }
      ]
    },
    {
      "cell_type": "code",
      "metadata": {
        "id": "gienizyb_h_R",
        "colab_type": "code",
        "colab": {
          "base_uri": "https://localhost:8080/",
          "height": 596
        },
        "outputId": "7ab67886-e460-484f-c658-e6d75d8637a2"
      },
      "source": [
        "df[df['range_of_shot'].isnull()]"
      ],
      "execution_count": 103,
      "outputs": [
        {
          "output_type": "execute_result",
          "data": {
            "text/html": [
              "<div>\n",
              "<style scoped>\n",
              "    .dataframe tbody tr th:only-of-type {\n",
              "        vertical-align: middle;\n",
              "    }\n",
              "\n",
              "    .dataframe tbody tr th {\n",
              "        vertical-align: top;\n",
              "    }\n",
              "\n",
              "    .dataframe thead th {\n",
              "        text-align: right;\n",
              "    }\n",
              "</style>\n",
              "<table border=\"1\" class=\"dataframe\">\n",
              "  <thead>\n",
              "    <tr style=\"text-align: right;\">\n",
              "      <th></th>\n",
              "      <th>location_x</th>\n",
              "      <th>location_y</th>\n",
              "      <th>remaining_min</th>\n",
              "      <th>power_of_shot</th>\n",
              "      <th>knockout_match</th>\n",
              "      <th>remaining_sec</th>\n",
              "      <th>distance_of_shot</th>\n",
              "      <th>is_goal</th>\n",
              "      <th>range_of_shot</th>\n",
              "      <th>home/away</th>\n",
              "      <th>type_of_shot</th>\n",
              "      <th>type_of_combined_shot</th>\n",
              "      <th>Lat</th>\n",
              "      <th>Long</th>\n",
              "    </tr>\n",
              "  </thead>\n",
              "  <tbody>\n",
              "    <tr>\n",
              "      <th>17</th>\n",
              "      <td>-117.0</td>\n",
              "      <td>226.000000</td>\n",
              "      <td>8.0</td>\n",
              "      <td>2.0</td>\n",
              "      <td>0.0</td>\n",
              "      <td>50.0</td>\n",
              "      <td>45.000000</td>\n",
              "      <td>1.0</td>\n",
              "      <td>NaN</td>\n",
              "      <td>MANU vs. UTA</td>\n",
              "      <td>shot - 6</td>\n",
              "      <td>shot-NaN</td>\n",
              "      <td>42.982923</td>\n",
              "      <td>-71.446094</td>\n",
              "    </tr>\n",
              "    <tr>\n",
              "      <th>36</th>\n",
              "      <td>1.0</td>\n",
              "      <td>4.000000</td>\n",
              "      <td>4.0</td>\n",
              "      <td>1.0</td>\n",
              "      <td>0.0</td>\n",
              "      <td>9.0</td>\n",
              "      <td>20.000000</td>\n",
              "      <td>NaN</td>\n",
              "      <td>NaN</td>\n",
              "      <td>MANU @ VAN</td>\n",
              "      <td>shot-NaN</td>\n",
              "      <td>shot - 4</td>\n",
              "      <td>49.250068</td>\n",
              "      <td>-123.114646</td>\n",
              "    </tr>\n",
              "    <tr>\n",
              "      <th>37</th>\n",
              "      <td>-117.0</td>\n",
              "      <td>116.000000</td>\n",
              "      <td>5.0</td>\n",
              "      <td>2.0</td>\n",
              "      <td>0.0</td>\n",
              "      <td>33.0</td>\n",
              "      <td>36.000000</td>\n",
              "      <td>NaN</td>\n",
              "      <td>NaN</td>\n",
              "      <td>MANU @ VAN</td>\n",
              "      <td>shot - 1</td>\n",
              "      <td>shot-NaN</td>\n",
              "      <td>49.250068</td>\n",
              "      <td>-123.114646</td>\n",
              "    </tr>\n",
              "    <tr>\n",
              "      <th>46</th>\n",
              "      <td>-4.0</td>\n",
              "      <td>84.864267</td>\n",
              "      <td>2.0</td>\n",
              "      <td>3.0</td>\n",
              "      <td>0.0</td>\n",
              "      <td>55.0</td>\n",
              "      <td>33.070434</td>\n",
              "      <td>0.0</td>\n",
              "      <td>NaN</td>\n",
              "      <td>MANU @ VAN</td>\n",
              "      <td>shot-NaN</td>\n",
              "      <td>shot - 1</td>\n",
              "      <td>49.250068</td>\n",
              "      <td>-123.114646</td>\n",
              "    </tr>\n",
              "    <tr>\n",
              "      <th>49</th>\n",
              "      <td>-176.0</td>\n",
              "      <td>30.000000</td>\n",
              "      <td>3.0</td>\n",
              "      <td>4.0</td>\n",
              "      <td>0.0</td>\n",
              "      <td>19.0</td>\n",
              "      <td>37.000000</td>\n",
              "      <td>NaN</td>\n",
              "      <td>NaN</td>\n",
              "      <td>MANU @ VAN</td>\n",
              "      <td>shot-NaN</td>\n",
              "      <td>shot - 3</td>\n",
              "      <td>49.250068</td>\n",
              "      <td>-123.114646</td>\n",
              "    </tr>\n",
              "    <tr>\n",
              "      <th>...</th>\n",
              "      <td>...</td>\n",
              "      <td>...</td>\n",
              "      <td>...</td>\n",
              "      <td>...</td>\n",
              "      <td>...</td>\n",
              "      <td>...</td>\n",
              "      <td>...</td>\n",
              "      <td>...</td>\n",
              "      <td>...</td>\n",
              "      <td>...</td>\n",
              "      <td>...</td>\n",
              "      <td>...</td>\n",
              "      <td>...</td>\n",
              "      <td>...</td>\n",
              "    </tr>\n",
              "    <tr>\n",
              "      <th>9969</th>\n",
              "      <td>0.0</td>\n",
              "      <td>0.000000</td>\n",
              "      <td>11.0</td>\n",
              "      <td>3.0</td>\n",
              "      <td>0.0</td>\n",
              "      <td>19.0</td>\n",
              "      <td>20.000000</td>\n",
              "      <td>1.0</td>\n",
              "      <td>NaN</td>\n",
              "      <td>MANU vs. IND</td>\n",
              "      <td>shot - 4</td>\n",
              "      <td>shot-NaN</td>\n",
              "      <td>42.982923</td>\n",
              "      <td>-71.446094</td>\n",
              "    </tr>\n",
              "    <tr>\n",
              "      <th>10010</th>\n",
              "      <td>-72.0</td>\n",
              "      <td>77.000000</td>\n",
              "      <td>6.0</td>\n",
              "      <td>4.0</td>\n",
              "      <td>0.0</td>\n",
              "      <td>0.0</td>\n",
              "      <td>30.000000</td>\n",
              "      <td>NaN</td>\n",
              "      <td>NaN</td>\n",
              "      <td>MANU vs. SAS</td>\n",
              "      <td>shot - 56</td>\n",
              "      <td>shot-NaN</td>\n",
              "      <td>42.982923</td>\n",
              "      <td>-71.446094</td>\n",
              "    </tr>\n",
              "    <tr>\n",
              "      <th>10015</th>\n",
              "      <td>146.0</td>\n",
              "      <td>84.864267</td>\n",
              "      <td>6.0</td>\n",
              "      <td>1.0</td>\n",
              "      <td>0.0</td>\n",
              "      <td>35.0</td>\n",
              "      <td>39.000000</td>\n",
              "      <td>0.0</td>\n",
              "      <td>NaN</td>\n",
              "      <td>MANU @ HOU</td>\n",
              "      <td>shot-NaN</td>\n",
              "      <td>shot - 3</td>\n",
              "      <td>29.740325</td>\n",
              "      <td>-95.365762</td>\n",
              "    </tr>\n",
              "    <tr>\n",
              "      <th>10020</th>\n",
              "      <td>125.0</td>\n",
              "      <td>-13.000000</td>\n",
              "      <td>1.0</td>\n",
              "      <td>1.0</td>\n",
              "      <td>0.0</td>\n",
              "      <td>35.0</td>\n",
              "      <td>32.000000</td>\n",
              "      <td>NaN</td>\n",
              "      <td>NaN</td>\n",
              "      <td>MANU @ HOU</td>\n",
              "      <td>shot - 36</td>\n",
              "      <td>shot-NaN</td>\n",
              "      <td>29.740325</td>\n",
              "      <td>-95.365762</td>\n",
              "    </tr>\n",
              "    <tr>\n",
              "      <th>10042</th>\n",
              "      <td>212.0</td>\n",
              "      <td>135.000000</td>\n",
              "      <td>2.0</td>\n",
              "      <td>1.0</td>\n",
              "      <td>0.0</td>\n",
              "      <td>54.0</td>\n",
              "      <td>45.000000</td>\n",
              "      <td>0.0</td>\n",
              "      <td>NaN</td>\n",
              "      <td>MANU @ DAL</td>\n",
              "      <td>shot-NaN</td>\n",
              "      <td>shot - 3</td>\n",
              "      <td>32.757824</td>\n",
              "      <td>-96.786653</td>\n",
              "    </tr>\n",
              "  </tbody>\n",
              "</table>\n",
              "<p>533 rows × 14 columns</p>\n",
              "</div>"
            ],
            "text/plain": [
              "       location_x  location_y  ...        Lat        Long\n",
              "17         -117.0  226.000000  ...  42.982923  -71.446094\n",
              "36            1.0    4.000000  ...  49.250068 -123.114646\n",
              "37         -117.0  116.000000  ...  49.250068 -123.114646\n",
              "46           -4.0   84.864267  ...  49.250068 -123.114646\n",
              "49         -176.0   30.000000  ...  49.250068 -123.114646\n",
              "...           ...         ...  ...        ...         ...\n",
              "9969          0.0    0.000000  ...  42.982923  -71.446094\n",
              "10010       -72.0   77.000000  ...  42.982923  -71.446094\n",
              "10015       146.0   84.864267  ...  29.740325  -95.365762\n",
              "10020       125.0  -13.000000  ...  29.740325  -95.365762\n",
              "10042       212.0  135.000000  ...  32.757824  -96.786653\n",
              "\n",
              "[533 rows x 14 columns]"
            ]
          },
          "metadata": {
            "tags": []
          },
          "execution_count": 103
        }
      ]
    },
    {
      "cell_type": "code",
      "metadata": {
        "id": "AAmUsRR1jWGS",
        "colab_type": "code",
        "colab": {}
      },
      "source": [
        "df = pd.concat([df, pd.get_dummies(df['range_of_shot'])], axis=1)"
      ],
      "execution_count": 104,
      "outputs": []
    },
    {
      "cell_type": "markdown",
      "metadata": {
        "id": "lj5AQmH8kGJ0",
        "colab_type": "text"
      },
      "source": [
        "\"get_dummies\" creates a categorical variable for each of the values in the respected column. This pre-processing will be helpful for ML ."
      ]
    },
    {
      "cell_type": "code",
      "metadata": {
        "id": "N6O5YYN6j1zo",
        "colab_type": "code",
        "colab": {
          "base_uri": "https://localhost:8080/",
          "height": 630
        },
        "outputId": "e0a6d42e-74cb-4ab6-b518-84923e21e11a"
      },
      "source": [
        "df.drop('range_of_shot', axis = 1)"
      ],
      "execution_count": 105,
      "outputs": [
        {
          "output_type": "execute_result",
          "data": {
            "text/html": [
              "<div>\n",
              "<style scoped>\n",
              "    .dataframe tbody tr th:only-of-type {\n",
              "        vertical-align: middle;\n",
              "    }\n",
              "\n",
              "    .dataframe tbody tr th {\n",
              "        vertical-align: top;\n",
              "    }\n",
              "\n",
              "    .dataframe thead th {\n",
              "        text-align: right;\n",
              "    }\n",
              "</style>\n",
              "<table border=\"1\" class=\"dataframe\">\n",
              "  <thead>\n",
              "    <tr style=\"text-align: right;\">\n",
              "      <th></th>\n",
              "      <th>location_x</th>\n",
              "      <th>location_y</th>\n",
              "      <th>remaining_min</th>\n",
              "      <th>power_of_shot</th>\n",
              "      <th>knockout_match</th>\n",
              "      <th>remaining_sec</th>\n",
              "      <th>distance_of_shot</th>\n",
              "      <th>is_goal</th>\n",
              "      <th>home/away</th>\n",
              "      <th>type_of_shot</th>\n",
              "      <th>type_of_combined_shot</th>\n",
              "      <th>Lat</th>\n",
              "      <th>Long</th>\n",
              "      <th>16-24 ft.</th>\n",
              "      <th>24+ ft.</th>\n",
              "      <th>8-16 ft.</th>\n",
              "      <th>Back Court Shot</th>\n",
              "      <th>Less Than 8 ft.</th>\n",
              "    </tr>\n",
              "  </thead>\n",
              "  <tbody>\n",
              "    <tr>\n",
              "      <th>0</th>\n",
              "      <td>167.0</td>\n",
              "      <td>72.0</td>\n",
              "      <td>10.000000</td>\n",
              "      <td>1.0</td>\n",
              "      <td>0.0</td>\n",
              "      <td>27.0</td>\n",
              "      <td>38.0</td>\n",
              "      <td>NaN</td>\n",
              "      <td>MANU @ POR</td>\n",
              "      <td>shot - 30</td>\n",
              "      <td>shot-NaN</td>\n",
              "      <td>45.539131</td>\n",
              "      <td>-122.651648</td>\n",
              "      <td>1</td>\n",
              "      <td>0</td>\n",
              "      <td>0</td>\n",
              "      <td>0</td>\n",
              "      <td>0</td>\n",
              "    </tr>\n",
              "    <tr>\n",
              "      <th>1</th>\n",
              "      <td>-157.0</td>\n",
              "      <td>0.0</td>\n",
              "      <td>10.000000</td>\n",
              "      <td>1.0</td>\n",
              "      <td>0.0</td>\n",
              "      <td>22.0</td>\n",
              "      <td>35.0</td>\n",
              "      <td>0.0</td>\n",
              "      <td>MANU @ POR</td>\n",
              "      <td>shot - 45</td>\n",
              "      <td>shot-NaN</td>\n",
              "      <td>45.539131</td>\n",
              "      <td>-122.651648</td>\n",
              "      <td>0</td>\n",
              "      <td>0</td>\n",
              "      <td>1</td>\n",
              "      <td>0</td>\n",
              "      <td>0</td>\n",
              "    </tr>\n",
              "    <tr>\n",
              "      <th>2</th>\n",
              "      <td>-101.0</td>\n",
              "      <td>135.0</td>\n",
              "      <td>7.000000</td>\n",
              "      <td>1.0</td>\n",
              "      <td>0.0</td>\n",
              "      <td>45.0</td>\n",
              "      <td>36.0</td>\n",
              "      <td>1.0</td>\n",
              "      <td>NaN</td>\n",
              "      <td>shot - 25</td>\n",
              "      <td>shot-NaN</td>\n",
              "      <td>45.539131</td>\n",
              "      <td>-122.651648</td>\n",
              "      <td>1</td>\n",
              "      <td>0</td>\n",
              "      <td>0</td>\n",
              "      <td>0</td>\n",
              "      <td>0</td>\n",
              "    </tr>\n",
              "    <tr>\n",
              "      <th>3</th>\n",
              "      <td>138.0</td>\n",
              "      <td>175.0</td>\n",
              "      <td>6.000000</td>\n",
              "      <td>1.0</td>\n",
              "      <td>0.0</td>\n",
              "      <td>52.0</td>\n",
              "      <td>42.0</td>\n",
              "      <td>0.0</td>\n",
              "      <td>MANU @ POR</td>\n",
              "      <td>shot-NaN</td>\n",
              "      <td>shot - 3</td>\n",
              "      <td>45.539131</td>\n",
              "      <td>-122.651648</td>\n",
              "      <td>1</td>\n",
              "      <td>0</td>\n",
              "      <td>0</td>\n",
              "      <td>0</td>\n",
              "      <td>0</td>\n",
              "    </tr>\n",
              "    <tr>\n",
              "      <th>4</th>\n",
              "      <td>0.0</td>\n",
              "      <td>0.0</td>\n",
              "      <td>4.966277</td>\n",
              "      <td>2.0</td>\n",
              "      <td>0.0</td>\n",
              "      <td>19.0</td>\n",
              "      <td>20.0</td>\n",
              "      <td>1.0</td>\n",
              "      <td>MANU @ POR</td>\n",
              "      <td>shot-NaN</td>\n",
              "      <td>shot - 1</td>\n",
              "      <td>45.539131</td>\n",
              "      <td>-122.651648</td>\n",
              "      <td>0</td>\n",
              "      <td>0</td>\n",
              "      <td>0</td>\n",
              "      <td>0</td>\n",
              "      <td>1</td>\n",
              "    </tr>\n",
              "    <tr>\n",
              "      <th>...</th>\n",
              "      <td>...</td>\n",
              "      <td>...</td>\n",
              "      <td>...</td>\n",
              "      <td>...</td>\n",
              "      <td>...</td>\n",
              "      <td>...</td>\n",
              "      <td>...</td>\n",
              "      <td>...</td>\n",
              "      <td>...</td>\n",
              "      <td>...</td>\n",
              "      <td>...</td>\n",
              "      <td>...</td>\n",
              "      <td>...</td>\n",
              "      <td>...</td>\n",
              "      <td>...</td>\n",
              "      <td>...</td>\n",
              "      <td>...</td>\n",
              "      <td>...</td>\n",
              "    </tr>\n",
              "    <tr>\n",
              "      <th>10061</th>\n",
              "      <td>-79.0</td>\n",
              "      <td>141.0</td>\n",
              "      <td>8.000000</td>\n",
              "      <td>2.0</td>\n",
              "      <td>0.0</td>\n",
              "      <td>25.0</td>\n",
              "      <td>36.0</td>\n",
              "      <td>1.0</td>\n",
              "      <td>MANU vs. HOU</td>\n",
              "      <td>shot-NaN</td>\n",
              "      <td>shot - 3</td>\n",
              "      <td>42.982923</td>\n",
              "      <td>-71.446094</td>\n",
              "      <td>1</td>\n",
              "      <td>0</td>\n",
              "      <td>0</td>\n",
              "      <td>0</td>\n",
              "      <td>0</td>\n",
              "    </tr>\n",
              "    <tr>\n",
              "      <th>10062</th>\n",
              "      <td>167.0</td>\n",
              "      <td>10.0</td>\n",
              "      <td>7.000000</td>\n",
              "      <td>2.0</td>\n",
              "      <td>0.0</td>\n",
              "      <td>54.0</td>\n",
              "      <td>36.0</td>\n",
              "      <td>0.0</td>\n",
              "      <td>MANU vs. HOU</td>\n",
              "      <td>shot - 23</td>\n",
              "      <td>shot-NaN</td>\n",
              "      <td>42.982923</td>\n",
              "      <td>-71.446094</td>\n",
              "      <td>1</td>\n",
              "      <td>0</td>\n",
              "      <td>0</td>\n",
              "      <td>0</td>\n",
              "      <td>0</td>\n",
              "    </tr>\n",
              "    <tr>\n",
              "      <th>10063</th>\n",
              "      <td>167.0</td>\n",
              "      <td>194.0</td>\n",
              "      <td>5.000000</td>\n",
              "      <td>2.0</td>\n",
              "      <td>0.0</td>\n",
              "      <td>1.0</td>\n",
              "      <td>45.0</td>\n",
              "      <td>1.0</td>\n",
              "      <td>MANU vs. HOU</td>\n",
              "      <td>shot-NaN</td>\n",
              "      <td>shot - 3</td>\n",
              "      <td>42.982923</td>\n",
              "      <td>-71.446094</td>\n",
              "      <td>0</td>\n",
              "      <td>1</td>\n",
              "      <td>0</td>\n",
              "      <td>0</td>\n",
              "      <td>0</td>\n",
              "    </tr>\n",
              "    <tr>\n",
              "      <th>10064</th>\n",
              "      <td>-29.0</td>\n",
              "      <td>166.0</td>\n",
              "      <td>3.000000</td>\n",
              "      <td>2.0</td>\n",
              "      <td>0.0</td>\n",
              "      <td>45.0</td>\n",
              "      <td>36.0</td>\n",
              "      <td>1.0</td>\n",
              "      <td>MANU vs. HOU</td>\n",
              "      <td>shot - 53</td>\n",
              "      <td>shot-NaN</td>\n",
              "      <td>42.982923</td>\n",
              "      <td>-71.446094</td>\n",
              "      <td>1</td>\n",
              "      <td>0</td>\n",
              "      <td>0</td>\n",
              "      <td>0</td>\n",
              "      <td>0</td>\n",
              "    </tr>\n",
              "    <tr>\n",
              "      <th>10065</th>\n",
              "      <td>144.0</td>\n",
              "      <td>125.0</td>\n",
              "      <td>3.000000</td>\n",
              "      <td>2.0</td>\n",
              "      <td>0.0</td>\n",
              "      <td>26.0</td>\n",
              "      <td>39.0</td>\n",
              "      <td>NaN</td>\n",
              "      <td>MANU vs. HOU</td>\n",
              "      <td>shot-NaN</td>\n",
              "      <td>shot-NaN</td>\n",
              "      <td>42.982923</td>\n",
              "      <td>-71.446094</td>\n",
              "      <td>1</td>\n",
              "      <td>0</td>\n",
              "      <td>0</td>\n",
              "      <td>0</td>\n",
              "      <td>0</td>\n",
              "    </tr>\n",
              "  </tbody>\n",
              "</table>\n",
              "<p>10066 rows × 18 columns</p>\n",
              "</div>"
            ],
            "text/plain": [
              "       location_x  location_y  ...  Back Court Shot  Less Than 8 ft.\n",
              "0           167.0        72.0  ...                0                0\n",
              "1          -157.0         0.0  ...                0                0\n",
              "2          -101.0       135.0  ...                0                0\n",
              "3           138.0       175.0  ...                0                0\n",
              "4             0.0         0.0  ...                0                1\n",
              "...           ...         ...  ...              ...              ...\n",
              "10061       -79.0       141.0  ...                0                0\n",
              "10062       167.0        10.0  ...                0                0\n",
              "10063       167.0       194.0  ...                0                0\n",
              "10064       -29.0       166.0  ...                0                0\n",
              "10065       144.0       125.0  ...                0                0\n",
              "\n",
              "[10066 rows x 18 columns]"
            ]
          },
          "metadata": {
            "tags": []
          },
          "execution_count": 105
        }
      ]
    },
    {
      "cell_type": "markdown",
      "metadata": {
        "id": "Zx7QRorPlXBP",
        "colab_type": "text"
      },
      "source": [
        "Relation between Remaining minutes and distance of shot."
      ]
    },
    {
      "cell_type": "code",
      "metadata": {
        "id": "e6xZiX8mj_0X",
        "colab_type": "code",
        "colab": {
          "base_uri": "https://localhost:8080/",
          "height": 280
        },
        "outputId": "54ab2a07-b15e-4396-bdc7-6f5e45d415f4"
      },
      "source": [
        "df.plot.scatter('remaining_min', 'distance_of_shot')\n",
        "plt.show()"
      ],
      "execution_count": 109,
      "outputs": [
        {
          "output_type": "display_data",
          "data": {
            "image/png": "[encoded data removed]",
            "text/plain": [
              "<Figure size 432x288 with 1 Axes>"
            ]
          },
          "metadata": {
            "tags": [],
            "needs_background": "light"
          }
        }
      ]
    },
    {
      "cell_type": "markdown",
      "metadata": {
        "id": "DKv1E4QHlgAv",
        "colab_type": "text"
      },
      "source": [
        "The distance of shot is more in 0th remaining_min."
      ]
    },
    {
      "cell_type": "markdown",
      "metadata": {
        "id": "UPeH37RAmiLE",
        "colab_type": "text"
      },
      "source": [
        "# Conclusion\n",
        "\n",
        "1. The unnecessary columns have been deleted.\n",
        "2. Few of the column null values have been addressed."
      ]
    }
  ]
}